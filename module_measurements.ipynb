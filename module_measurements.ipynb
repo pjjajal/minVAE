{
 "cells": [
  {
   "cell_type": "code",
   "execution_count": 1,
   "metadata": {},
   "outputs": [
    {
     "name": "stderr",
     "output_type": "stream",
     "text": [
      "W1215 19:59:22.699000 34260 site-packages/torch/distributed/elastic/multiprocessing/redirects.py:29] NOTE: Redirects are currently not supported in Windows or MacOs.\n"
     ]
    }
   ],
   "source": [
    "import treescope\n",
    "import torchinfo\n",
    "from nutils.benchmark import measure_flops, benchmark_model\n",
    "treescope.register_as_default()\n",
    "treescope.basic_interactive_setup(autovisualize_arrays=True)"
   ]
  },
  {
   "cell_type": "markdown",
   "metadata": {},
   "source": [
    "# LDM VAE"
   ]
  },
  {
   "cell_type": "code",
   "execution_count": 16,
   "metadata": {},
   "outputs": [
    {
     "name": "stdout",
     "output_type": "stream",
     "text": [
      "Total number of parameters: 83,653,863\n",
      "Number of parameters in the encoder: 34,163,592\n",
      "Number of parameters in the decoder: 49,490,179\n"
     ]
    }
   ],
   "source": [
    "from diffusers.models import AutoencoderKL\n",
    "vae = AutoencoderKL.from_pretrained(\"stabilityai/sd-vae-ft-mse\")\n",
    "num_params = sum(p.numel() for p in vae.parameters())\n",
    "num_params_encoder = sum(p.numel() for p in vae.encoder.parameters())\n",
    "num_params_decoder = sum(p.numel() for p in vae.decoder.parameters())\n",
    "print(f\"Total number of parameters: {num_params:,}\")\n",
    "print(f\"Number of parameters in the encoder: {num_params_encoder:,}\")\n",
    "print(f\"Number of parameters in the decoder: {num_params_decoder:,}\")"
   ]
  },
  {
   "cell_type": "code",
   "execution_count": 17,
   "metadata": {},
   "outputs": [
    {
     "name": "stdout",
     "output_type": "stream",
     "text": [
      "Wavelet Transform: None\n",
      "z of shape: (1, 4, 32, 32), dimensions: 4096\n",
      "Total number of parameters: 83,653,863\n",
      "Number of parameters in the encoder: 34,163,592\n",
      "Number of parameters in the decoder: 49,490,179\n"
     ]
    }
   ],
   "source": [
    "from models.vae import VAE\n",
    "\n",
    "vae = VAE(\n",
    "    in_channels=3,\n",
    "    out_channels=3,\n",
    "    channels=128,\n",
    "    channels_mult=[1,2,4,4],\n",
    "    num_res_blocks=2,\n",
    "    attn_resolutions=[],\n",
    "    dropout=0.0,\n",
    "    resolution=256,\n",
    "    z_channels=4,\n",
    "    spatial_compression=8,\n",
    "    prior=\"gaussian\",\n",
    ")\n",
    "num_params = sum(p.numel() for p in vae.parameters())\n",
    "num_params_encoder = sum(p.numel() for p in vae.encoder.parameters())\n",
    "num_params_decoder = sum(p.numel() for p in vae.decoder.parameters())\n",
    "print(f\"Total number of parameters: {num_params:,}\")\n",
    "print(f\"Number of parameters in the encoder: {num_params_encoder:,}\")\n",
    "print(f\"Number of parameters in the decoder: {num_params_decoder:,}\")"
   ]
  },
  {
   "cell_type": "code",
   "execution_count": 18,
   "metadata": {},
   "outputs": [
    {
     "data": {
      "text/html": [
       "<script> (()=>{ if (customElements.get('treescope-container') === undefined) { class TreescopeContainer extends HTMLElement { constructor() { super(); this.attachShadow({mode: \"open\"}); this.defns = {}; this.state = {}; } } customElements.define(\"treescope-container\", TreescopeContainer); } if (customElements.get('treescope-run-here') === undefined) { class RunHere extends HTMLElement { constructor() { super() } connectedCallback() { const run = child => { const fn = new Function(child.textContent); child.textContent = \"\"; fn.call(this); this.remove(); }; const child = this.querySelector(\"script\"); if (child) { run(child); } else { new MutationObserver(()=>{ run(this.querySelector(\"script\")); }).observe(this, {childList: true}); } } } customElements.define(\"treescope-run-here\", RunHere); } })(); </script> <treescope-container class=\"treescope_out_993aab2d2c1b4012bd706b305e6bf1ec\" ></treescope-container> <treescope-run-here><script type=\"application/octet-stream\"> const root = ( Array.from(document.getElementsByClassName( \"treescope_out_993aab2d2c1b4012bd706b305e6bf1ec\")) .filter((elt) => !elt.dataset.setup) )[0]; root.dataset.setup = 1; const msg = document.createElement(\"span\"); msg.style = \"color: #cccccc; font-family: monospace;\"; msg.textContent = \"(Loading...)\"; root.state.loadingMsg = msg; root.shadowRoot.appendChild(msg); root.state.chain = new Promise((resolve, reject) => { const observer = new IntersectionObserver((entries) => { for (const entry of entries) { if (entry.isIntersecting) { resolve(); observer.disconnect(); return; } } }, {rootMargin: \"1000px\"}); window.setTimeout(() => { observer.observe(root); }, 0); }); root.state.deferring = false; const _insertNode = (node) => { for (let oldScript of node.querySelectorAll(\"script\")) { let newScript = document.createElement(\"script\"); newScript.type = oldScript.type; newScript.textContent = oldScript.textContent; oldScript.parentNode.replaceChild(newScript, oldScript); } if (root.state.loadingMsg) { root.state.loadingMsg.remove(); root.state.loadingMsg = null; } root.shadowRoot.appendChild(node); }; root.defns.insertContent = ((contentNode, compressed) => { if (compressed) { root.state.deferring = true; } if (root.state.deferring) { root.state.chain = (async () => { await root.state.chain; if (compressed) { const encoded = contentNode.textContent; const blob = new Blob([ Uint8Array.from(atob(encoded), (m) => m.codePointAt(0)) ]); const reader = blob.stream().pipeThrough( new DecompressionStream(\"deflate\") ).pipeThrough( new TextDecoderStream(\"utf-8\") ).getReader(); const parts = []; while (true) { const step = await reader.read(); if (step.done) { break; } parts.push(step.value); } const tpl = document.createElement('template'); tpl.innerHTML = parts.join(\"\"); _insertNode(tpl.content); } else { _insertNode(contentNode.content); } })(); } else { _insertNode(contentNode.content); } }); </script></treescope-run-here><div style=\"display:none\"> <script type=\"application/octet-stream\" >eNrVWP1u2zYQ/z9PQThYIw+SIluS44/YQLqmXYG2G5Zuw9AVBiXRFheZ1EjaiVcE2EP0zz1dn2RHSnZiW/aS1fuIjCQW73j3u+N9MadSzTMycJUgRMY8J0PBuUIfUM4lVZSzLhIkw4rOSA+NOFPOCE9oNu+iCWdc5jiG9auUKuKYly7KBaxkVCrHiHbUPIdVxhksRzi+HAs+ZYkT84yLbrG1h8q3KAMGkEcTlXbRiCpgY4ow1UM5ThLKxk5GRqqLmnGqlTDipISOU1hpuKEWwxSmgHm5rfzizKikEc2oAuR4qviS16FMCcokjR1JfyMFtYR7c3pcuOd06R5HTBnoFLAmY0FzhbR9/SOc5xmNsfbYMY8V0dYLgidHA8uq9wfgUNAnFUrIiEnURyql0h0T9R14+w1PiFV3Uy6Va+hgGlFomBOmTT6LtVS96d37KsrXmCUZATKbZlmv0OACzAvOGaxaV1xc1tFdDPxHWNKklWVFY72YEzHiYoJZTFzGr6y6OV9QYG1QkFNsOkV+sw5y6AhZa6jdjLCxSlG/jzzNshO6IGoqGPgdkUySW2DplGlk66JlSkdK4zMM+ssNfLZosCCqWMKvXEF+nRKpzhidmON6LvCEWIVP6lpGb0NRPpVp4cZehY0LFf3CjB1W3h+DRlEcpOLjcVZk5dBkDkRrrmXpFZIpG5EZBHh5khqdeXcvyVw7vSZqGlDJ7MYZlvIVJGcp16otZQ4nEIa1hfKbOvgTwt/E+OD0uCoBEjpDRmC/tlo+akjhCCwl1/2aV4PUFWqThTOACM5gQNqVDNUesPSehe01SMaijJk6MsRRJMjMxI8pK4etdhN7HlhVMsR8MoGNw6uUsCG5zuGASNJlXFnuiGcJjkAfAyDdFEtrkOGIZINVyrBAZfZ045TElySp19GX9TtasXm01pWtW4rrDarUANwJlXmG54sius6IBsgg7HYjAvlJ7iCIzdOr1FcUUqehK2lZcMFDS12UmfIaZVxX5K06Uz4jYlNzgsWlJHgMZ842d+/J00sMemv1pgX/CkLTEbro6OdmGMVH/yW81U1bQbb+BZD6HLXiqZD6AHMOfZGICr1U7k+tSQWjyDGZLLfF+H603pqnyLXa1OJSORxRIdWQs6EO/4rU2pVKbjPU2VR5VOiz4Rcnvg5RWzXBYgyTTAHDJPSNq8svODYZxtC8E0FYGVWr4xFAXWXcWxFcFpKygqxgjHEWWzDDwQDRyK9Nz3Glwnr/Eu8/hiTiIoGAK5AkXIHtGgU6JJ7+aOfJFAuAcoUFgy4+XMTqoqyORjhu+BWMObTmD8tRVZSTqT6Q0vxyyfFcEym383DXTLNYOGOBEwoHYqGGHyZkbCMuMBsT5CHPbcWpjRS8w6wNLlLFEioduIFlI1j2E4loI+YW9ty4pqOCnzKcS/DrXzavB2vfoaFoWUbHSmPfwrMPHFUq1u8OcFZsMSetNtH144E5pkBwSlk+La8WNaMz4te1SiElPCAW0GBWM5tX9d6di2pVpMqJaI1zjXaIwER4GTzJVE9xAYnLRtzVY2Q2hGxWMGbSWLqv9cLF8h3x6BcSK4Qheq8bPiaB50Xek7HqleKWf0pf7ICwQtuoeDvptV0O6j+u5+AVnkP3tsxVOyG5Sh2aXNfRruelibCLFOdkjfLNVG0hfYvhnoIOK6QVlC8qKK+nmXLOkkQePDan/nB2jh74vGvYyLdRM2yZX+/vQ3GcnSIryY5z8OnjH58+/v5ShzRV87e6J+jLObQbp/F/QnjOYsh/oXE19+DDNhCb+uf93T1+YDdavh12NlUEntsOqgIT2qvtn3h2q9W0G0FQwv2Ks1kz0Wj9+x95NajtlJMdnvBcz6uCe+LbJ812ifIFnkpJMXsGJVXQaFoMpA0n+Hsog0rKZx37rR/D+/sxeCDCpvdwPzY9O2h7JcpnZBmcrT2grA7boGMHHc9unHQ2xIUdt9GqQuk3YEMY2u2ObzeD9qOrnW+5wpn+xw+ewJ2u7dut0LfbLf8AChVlenipIr7hzFEbDF4pbaI7CYzWElnfM6qk++Lli7OnP709v6h3URCEbug/Oj8VXVj/4xlZr5+CHZ570jl4zgVM8cmxvh7oL+AKKe9y+Y0WxHd4YNruKsUP3Fbz4BxGrQnWN5vCdxd3OIJO6AbhY3PV+nBY9WfXpLjgTOhs8Cfo+oR1</script> <treescope-run-here><script type=\"application/octet-stream\"> const root = ( Array.from(document.getElementsByClassName( \"treescope_out_993aab2d2c1b4012bd706b305e6bf1ec\")) .filter((elt) => !elt.dataset['step0']) )[0]; root.dataset['step0'] = 1; root.defns.insertContent( this.parentNode.querySelector('script[type=\"application/octet-stream\"]'), true ); this.parentNode.remove(); </script></treescope-run-here> </div>"
      ],
      "text/plain": [
       "<IPython.core.display.HTML object>"
      ]
     },
     "metadata": {},
     "output_type": "display_data"
    },
    {
     "data": {
      "text/html": [
       "<treescope-run-here><script type=\"application/octet-stream\"> const root = ( Array.from(document.getElementsByClassName( \"treescope_out_993aab2d2c1b4012bd706b305e6bf1ec\")) .filter((elt) => !elt.dataset.stolen) )[0]; root.dataset.stolen = 1; this.parentNode.replaceChild(root, this); </script></treescope-run-here>"
      ],
      "text/plain": [
       "===============================================================================================================================================================================\n",
       "Layer (type:depth-idx)                             Input Shape               Output Shape              Param #                   Param %                   Mult-Adds\n",
       "===============================================================================================================================================================================\n",
       "VAE                                                [1, 3, 256, 256]          [1, 3, 256, 256]          --                             --                   --\n",
       "├─IdentityTransform: 1-1                           [1, 3, 256, 256]          [1, 3, 256, 256]          --                             --                   --\n",
       "├─Encoder: 1-2                                     [1, 3, 256, 256]          [1, 8, 32, 32]            34,163,592                 40.84%                   135,370,662,144\n",
       "├─Conv2d: 1-3                                      [1, 8, 32, 32]            [1, 8, 32, 32]            72                          0.00%                   73,728\n",
       "├─GaussianDistribution: 1-4                        [1, 8, 32, 32]            [1, 4, 32, 32]            --                             --                   --\n",
       "├─Conv2d: 1-5                                      [1, 4, 32, 32]            [1, 4, 32, 32]            20                          0.00%                   20,480\n",
       "├─Decoder: 1-6                                     [1, 4, 32, 32]            [1, 3, 256, 256]          49,490,179                 59.16%                   310,155,893,248\n",
       "===============================================================================================================================================================================\n",
       "Total params: 83,653,863\n",
       "Trainable params: 83,653,863\n",
       "Non-trainable params: 0\n",
       "Total mult-adds (Units.GIGABYTES): 445.53\n",
       "===============================================================================================================================================================================\n",
       "Input size (MB): 0.79\n",
       "Forward/backward pass size (MB): 3160.05\n",
       "Params size (MB): 334.62\n",
       "Estimated Total Size (MB): 3495.45\n",
       "==============================================================================================================================================================================="
      ]
     },
     "execution_count": 18,
     "metadata": {},
     "output_type": "execute_result"
    }
   ],
   "source": [
    "torchinfo.summary(\n",
    "    vae,\n",
    "    (1, 3, 256, 256),\n",
    "    depth=1,\n",
    "    col_names=(\n",
    "        \"input_size\",\n",
    "        \"output_size\",\n",
    "        \"num_params\",\n",
    "        \"params_percent\",\n",
    "        \"mult_adds\",\n",
    "    ),\n",
    ")"
   ]
  },
  {
   "cell_type": "code",
   "execution_count": 20,
   "metadata": {},
   "outputs": [
    {
     "name": "stdout",
     "output_type": "stream",
     "text": [
      "Runtime: 3.74 ms\n"
     ]
    }
   ],
   "source": [
    "runtime = benchmark_model(vae, (1, 3, 256, 256), device=\"cpu\")\n",
    "print(f\"Runtime: {runtime.median:.2f} ms\")\n",
    "\n",
    "# flops = measure_flops(vae, (1, 3, 256, 256), device=\"meta\")\n",
    "# print(f\"FLOPs: {flops['forward_total']/1e9:,} GFLOPs\")"
   ]
  },
  {
   "cell_type": "code",
   "execution_count": 6,
   "metadata": {},
   "outputs": [],
   "source": [
    "import torch\n",
    "import torch.nn as nn\n",
    "from einops import rearrange\n",
    "\n",
    "\n",
    "class GRN(nn.Module):\n",
    "    \"\"\"GRN (Global Response Normalization) layer\"\"\"\n",
    "\n",
    "    def __init__(self, dim):\n",
    "        super().__init__()\n",
    "        self.gamma = nn.Parameter(torch.zeros(1, 1, 1, dim))\n",
    "        self.beta = nn.Parameter(torch.zeros(1, 1, 1, dim))\n",
    "\n",
    "    def forward(self, x):\n",
    "        Gx = torch.norm(x, p=2, dim=(1, 2), keepdim=True)\n",
    "        Nx = Gx / (Gx.mean(dim=-1, keepdim=True) + 1e-6)\n",
    "        return self.gamma * (x * Nx) + self.beta + x\n",
    "\n",
    "\n",
    "class ConvNeXtBlock(nn.Module):\n",
    "    def __init__(\n",
    "        self, *, in_channels: int, out_channels: int = None, dropout: float, **kwargs\n",
    "    ):\n",
    "        super().__init__()\n",
    "        self.in_channels = in_channels\n",
    "        self.out_channels = out_channels or in_channels\n",
    "\n",
    "        self.convdw1 = nn.Conv2d(\n",
    "            in_channels,\n",
    "            in_channels,\n",
    "            kernel_size=7,\n",
    "            padding=3,\n",
    "            groups=in_channels,\n",
    "        )\n",
    "        self.norm1 = nn.LayerNorm(in_channels)\n",
    "        self.pwconv1_1 = nn.Linear(in_channels, 4 * in_channels)\n",
    "        self.act1 = nn.GELU()\n",
    "        self.gn1 = GRN(4 * in_channels)\n",
    "        self.pwconv1_2 = nn.Linear(4 * in_channels, in_channels)\n",
    "\n",
    "        self.convdw2 = nn.Conv2d(\n",
    "            in_channels,\n",
    "            in_channels,\n",
    "            kernel_size=7,\n",
    "            padding=3,\n",
    "            groups=in_channels,\n",
    "        )\n",
    "        self.norm2 = nn.LayerNorm(in_channels)\n",
    "        self.pwconv2_1 = nn.Linear(in_channels, 4 * in_channels)\n",
    "        self.act2 = nn.GELU()\n",
    "        self.gn2 = GRN(4 * in_channels)\n",
    "        self.pwconv2_2 = nn.Linear(4 * in_channels, out_channels)\n",
    "\n",
    "        self.nin_shortcut = (\n",
    "            nn.Conv2d(in_channels, self.out_channels, kernel_size=1, stride=1)\n",
    "            if in_channels != self.out_channels\n",
    "            else nn.Identity()\n",
    "        )\n",
    "\n",
    "    def forward(self, x):\n",
    "        h = x\n",
    "        h = self.convdw1(h)\n",
    "        h = rearrange(h, \"b c h w -> b h w c\")\n",
    "        h = self.norm1(h)\n",
    "        h = self.pwconv1_1(h)\n",
    "        h = self.act1(h)\n",
    "        h = self.gn1(h)\n",
    "        h = self.pwconv1_2(h)\n",
    "        h = rearrange(h, \"b h w c -> b c h w\")\n",
    "\n",
    "        x = h + x\n",
    "\n",
    "        h = x\n",
    "        h = self.convdw2(h)\n",
    "        h = rearrange(h, \"b c h w -> b h w c\")\n",
    "        h = self.norm2(h)\n",
    "        h = self.pwconv2_1(h)\n",
    "        h = self.act2(h)\n",
    "        h = self.gn2(h)\n",
    "        h = self.pwconv2_2(h)\n",
    "        h = rearrange(h, \"b h w c -> b c h w\")\n",
    "\n",
    "        x = self.nin_shortcut(x)\n",
    "        return h + x "
   ]
  },
  {
   "cell_type": "code",
   "execution_count": 12,
   "metadata": {},
   "outputs": [
    {
     "name": "stdout",
     "output_type": "stream",
     "text": [
      "Wavelet Transform: None\n",
      "z of shape: (1, 4, 32, 32), dimensions: 4096\n",
      "Total number of parameters: 77,031,143\n",
      "Number of parameters in the encoder: 28,987,656\n",
      "Number of parameters in the decoder: 48,043,395\n"
     ]
    }
   ],
   "source": [
    "vae = VAE(\n",
    "    in_channels=3,\n",
    "    out_channels=3,\n",
    "    channels=128,\n",
    "    channels_mult=[1,2,4,4],\n",
    "    num_res_blocks=2,\n",
    "    attn_resolutions=[],\n",
    "    dropout=0.0,\n",
    "    resolution=256,\n",
    "    z_channels=4,\n",
    "    spatial_compression=8,\n",
    "    prior=\"gaussian\",\n",
    "    block_fn=ConvNeXtBlock\n",
    ")\n",
    "num_params = sum(p.numel() for p in vae.parameters())\n",
    "num_params_encoder = sum(p.numel() for p in vae.encoder.parameters())\n",
    "num_params_decoder = sum(p.numel() for p in vae.decoder.parameters())\n",
    "print(f\"Total number of parameters: {num_params:,}\")\n",
    "print(f\"Number of parameters in the encoder: {num_params_encoder:,}\")\n",
    "print(f\"Number of parameters in the decoder: {num_params_decoder:,}\")"
   ]
  },
  {
   "cell_type": "code",
   "execution_count": 13,
   "metadata": {},
   "outputs": [
    {
     "data": {
      "text/html": [
       "<script> (()=>{ if (customElements.get('treescope-container') === undefined) { class TreescopeContainer extends HTMLElement { constructor() { super(); this.attachShadow({mode: \"open\"}); this.defns = {}; this.state = {}; } } customElements.define(\"treescope-container\", TreescopeContainer); } if (customElements.get('treescope-run-here') === undefined) { class RunHere extends HTMLElement { constructor() { super() } connectedCallback() { const run = child => { const fn = new Function(child.textContent); child.textContent = \"\"; fn.call(this); this.remove(); }; const child = this.querySelector(\"script\"); if (child) { run(child); } else { new MutationObserver(()=>{ run(this.querySelector(\"script\")); }).observe(this, {childList: true}); } } } customElements.define(\"treescope-run-here\", RunHere); } })(); </script> <treescope-container class=\"treescope_out_416c4695f8c143fbb4cf04b2783364a9\" ></treescope-container> <treescope-run-here><script type=\"application/octet-stream\"> const root = ( Array.from(document.getElementsByClassName( \"treescope_out_416c4695f8c143fbb4cf04b2783364a9\")) .filter((elt) => !elt.dataset.setup) )[0]; root.dataset.setup = 1; const msg = document.createElement(\"span\"); msg.style = \"color: #cccccc; font-family: monospace;\"; msg.textContent = \"(Loading...)\"; root.state.loadingMsg = msg; root.shadowRoot.appendChild(msg); root.state.chain = new Promise((resolve, reject) => { const observer = new IntersectionObserver((entries) => { for (const entry of entries) { if (entry.isIntersecting) { resolve(); observer.disconnect(); return; } } }, {rootMargin: \"1000px\"}); window.setTimeout(() => { observer.observe(root); }, 0); }); root.state.deferring = false; const _insertNode = (node) => { for (let oldScript of node.querySelectorAll(\"script\")) { let newScript = document.createElement(\"script\"); newScript.type = oldScript.type; newScript.textContent = oldScript.textContent; oldScript.parentNode.replaceChild(newScript, oldScript); } if (root.state.loadingMsg) { root.state.loadingMsg.remove(); root.state.loadingMsg = null; } root.shadowRoot.appendChild(node); }; root.defns.insertContent = ((contentNode, compressed) => { if (compressed) { root.state.deferring = true; } if (root.state.deferring) { root.state.chain = (async () => { await root.state.chain; if (compressed) { const encoded = contentNode.textContent; const blob = new Blob([ Uint8Array.from(atob(encoded), (m) => m.codePointAt(0)) ]); const reader = blob.stream().pipeThrough( new DecompressionStream(\"deflate\") ).pipeThrough( new TextDecoderStream(\"utf-8\") ).getReader(); const parts = []; while (true) { const step = await reader.read(); if (step.done) { break; } parts.push(step.value); } const tpl = document.createElement('template'); tpl.innerHTML = parts.join(\"\"); _insertNode(tpl.content); } else { _insertNode(contentNode.content); } })(); } else { _insertNode(contentNode.content); } }); </script></treescope-run-here><div style=\"display:none\"> <script type=\"application/octet-stream\" >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</script> <treescope-run-here><script type=\"application/octet-stream\"> const root = ( Array.from(document.getElementsByClassName( \"treescope_out_416c4695f8c143fbb4cf04b2783364a9\")) .filter((elt) => !elt.dataset['step0']) )[0]; root.dataset['step0'] = 1; root.defns.insertContent( this.parentNode.querySelector('script[type=\"application/octet-stream\"]'), true ); this.parentNode.remove(); </script></treescope-run-here> </div>"
      ],
      "text/plain": [
       "<IPython.core.display.HTML object>"
      ]
     },
     "metadata": {},
     "output_type": "display_data"
    },
    {
     "data": {
      "text/html": [
       "<treescope-run-here><script type=\"application/octet-stream\"> const root = ( Array.from(document.getElementsByClassName( \"treescope_out_416c4695f8c143fbb4cf04b2783364a9\")) .filter((elt) => !elt.dataset.stolen) )[0]; root.dataset.stolen = 1; this.parentNode.replaceChild(root, this); </script></treescope-run-here>"
      ],
      "text/plain": [
       "===============================================================================================================================================================================\n",
       "Layer (type:depth-idx)                             Input Shape               Output Shape              Param #                   Param %                   Mult-Adds\n",
       "===============================================================================================================================================================================\n",
       "VAE                                                [1, 3, 256, 256]          [1, 3, 256, 256]          --                             --                   --\n",
       "├─IdentityTransform: 1-1                           [1, 3, 256, 256]          [1, 3, 256, 256]          --                             --                   --\n",
       "├─Encoder: 1-2                                     [1, 3, 256, 256]          [1, 8, 32, 32]            28,987,656                 37.63%                   12,535,326,336\n",
       "├─Conv2d: 1-3                                      [1, 8, 32, 32]            [1, 8, 32, 32]            72                          0.00%                   73,728\n",
       "├─GaussianDistribution: 1-4                        [1, 8, 32, 32]            [1, 4, 32, 32]            --                             --                   --\n",
       "├─Conv2d: 1-5                                      [1, 4, 32, 32]            [1, 4, 32, 32]            20                          0.00%                   20,480\n",
       "├─Decoder: 1-6                                     [1, 4, 32, 32]            [1, 3, 256, 256]          48,043,395                 62.37%                   98,595,125,120\n",
       "===============================================================================================================================================================================\n",
       "Total params: 77,031,143\n",
       "Trainable params: 77,031,143\n",
       "Non-trainable params: 0\n",
       "Total mult-adds (Units.GIGABYTES): 111.13\n",
       "===============================================================================================================================================================================\n",
       "Input size (MB): 0.79\n",
       "Forward/backward pass size (MB): 15919.12\n",
       "Params size (MB): 308.12\n",
       "Estimated Total Size (MB): 16228.03\n",
       "==============================================================================================================================================================================="
      ]
     },
     "execution_count": 13,
     "metadata": {},
     "output_type": "execute_result"
    }
   ],
   "source": [
    "torchinfo.summary(\n",
    "    vae,\n",
    "    (1, 3, 256, 256),\n",
    "    depth=1,\n",
    "    col_names=(\n",
    "        \"input_size\",\n",
    "        \"output_size\",\n",
    "        \"num_params\",\n",
    "        \"params_percent\",\n",
    "        \"mult_adds\",\n",
    "    ),\n",
    ")"
   ]
  },
  {
   "cell_type": "code",
   "execution_count": 15,
   "metadata": {},
   "outputs": [
    {
     "name": "stdout",
     "output_type": "stream",
     "text": [
      "Runtime: 47.43 ms\n"
     ]
    }
   ],
   "source": [
    "runtime = benchmark_model(vae.cpu(), (1, 3, 256, 256), device=\"cpu\")\n",
    "print(f\"Runtime: {runtime.median:.2f} ms\")\n",
    "\n",
    "# flops = measure_flops(vae, (1, 3, 256, 256), device=\"meta\")\n",
    "# print(f\"FLOPs: {flops['forward_total']/1e9:,} GFLOPs\")"
   ]
  },
  {
   "cell_type": "code",
   "execution_count": null,
   "metadata": {},
   "outputs": [],
   "source": []
  }
 ],
 "metadata": {
  "kernelspec": {
   "display_name": "minVAE",
   "language": "python",
   "name": "python3"
  },
  "language_info": {
   "codemirror_mode": {
    "name": "ipython",
    "version": 3
   },
   "file_extension": ".py",
   "mimetype": "text/x-python",
   "name": "python",
   "nbconvert_exporter": "python",
   "pygments_lexer": "ipython3",
   "version": "3.12.7"
  }
 },
 "nbformat": 4,
 "nbformat_minor": 2
}
