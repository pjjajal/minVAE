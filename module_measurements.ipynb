{
 "cells": [
  {
   "cell_type": "code",
   "execution_count": 1,
   "metadata": {},
   "outputs": [
    {
     "name": "stderr",
     "output_type": "stream",
     "text": [
      "/home/jajal/mambaforge/envs/minVAE/lib/python3.12/site-packages/tqdm/auto.py:21: TqdmWarning: IProgress not found. Please update jupyter and ipywidgets. See https://ipywidgets.readthedocs.io/en/stable/user_install.html\n",
      "  from .autonotebook import tqdm as notebook_tqdm\n"
     ]
    }
   ],
   "source": [
    "import treescope\n",
    "import torchinfo\n",
    "from nutils.benchmark import measure_flops, benchmark_model\n",
    "treescope.register_as_default()\n",
    "treescope.basic_interactive_setup(autovisualize_arrays=True)"
   ]
  },
  {
   "cell_type": "markdown",
   "metadata": {},
   "source": [
    "# LDM VAE"
   ]
  },
  {
   "cell_type": "code",
   "execution_count": 2,
   "metadata": {},
   "outputs": [
    {
     "name": "stdout",
     "output_type": "stream",
     "text": [
      "Total number of parameters: 83,653,863\n",
      "Number of parameters in the encoder: 34,163,592\n",
      "Number of parameters in the decoder: 49,490,179\n"
     ]
    }
   ],
   "source": [
    "from diffusers.models import AutoencoderKL\n",
    "vae = AutoencoderKL.from_pretrained(\"stabilityai/sd-vae-ft-mse\")\n",
    "num_params = sum(p.numel() for p in vae.parameters())\n",
    "num_params_encoder = sum(p.numel() for p in vae.encoder.parameters())\n",
    "num_params_decoder = sum(p.numel() for p in vae.decoder.parameters())\n",
    "print(f\"Total number of parameters: {num_params:,}\")\n",
    "print(f\"Number of parameters in the encoder: {num_params_encoder:,}\")\n",
    "print(f\"Number of parameters in the decoder: {num_params_decoder:,}\")"
   ]
  },
  {
   "cell_type": "code",
   "execution_count": 3,
   "metadata": {},
   "outputs": [
    {
     "name": "stdout",
     "output_type": "stream",
     "text": [
      "Wavelet Transform: None\n",
      "z of shape: (1, 4, 32, 32), dimensions: 4096\n",
      "Total number of parameters: 83,653,863\n",
      "Number of parameters in the encoder: 34,163,592\n",
      "Number of parameters in the decoder: 49,490,179\n"
     ]
    }
   ],
   "source": [
    "from models.vae import VAE\n",
    "\n",
    "vae = VAE(\n",
    "    in_channels=3,\n",
    "    out_channels=3,\n",
    "    channels=128,\n",
    "    channels_mult=[1,2,4,4],\n",
    "    num_res_blocks=2,\n",
    "    attn_resolutions=[],\n",
    "    dropout=0.0,\n",
    "    resolution=256,\n",
    "    z_channels=4,\n",
    "    spatial_compression=8,\n",
    "    prior=\"gaussian\",\n",
    ")\n",
    "num_params = sum(p.numel() for p in vae.parameters())\n",
    "num_params_encoder = sum(p.numel() for p in vae.encoder.parameters())\n",
    "num_params_decoder = sum(p.numel() for p in vae.decoder.parameters())\n",
    "print(f\"Total number of parameters: {num_params:,}\")\n",
    "print(f\"Number of parameters in the encoder: {num_params_encoder:,}\")\n",
    "print(f\"Number of parameters in the decoder: {num_params_decoder:,}\")"
   ]
  },
  {
   "cell_type": "code",
   "execution_count": 4,
   "metadata": {},
   "outputs": [
    {
     "data": {
      "text/html": [
       "<script> (()=>{ if (customElements.get('treescope-container') === undefined) { class TreescopeContainer extends HTMLElement { constructor() { super(); this.attachShadow({mode: \"open\"}); this.defns = {}; this.state = {}; } } customElements.define(\"treescope-container\", TreescopeContainer); } if (customElements.get('treescope-run-here') === undefined) { class RunHere extends HTMLElement { constructor() { super() } connectedCallback() { const run = child => { const fn = new Function(child.textContent); child.textContent = \"\"; fn.call(this); this.remove(); }; const child = this.querySelector(\"script\"); if (child) { run(child); } else { new MutationObserver(()=>{ run(this.querySelector(\"script\")); }).observe(this, {childList: true}); } } } customElements.define(\"treescope-run-here\", RunHere); } })(); </script> <treescope-container class=\"treescope_out_b802016307474224b50ba2c7df05cd1b\" ></treescope-container> <treescope-run-here><script type=\"application/octet-stream\"> const root = ( Array.from(document.getElementsByClassName( \"treescope_out_b802016307474224b50ba2c7df05cd1b\")) .filter((elt) => !elt.dataset.setup) )[0]; root.dataset.setup = 1; const msg = document.createElement(\"span\"); msg.style = \"color: #cccccc; font-family: monospace;\"; msg.textContent = \"(Loading...)\"; root.state.loadingMsg = msg; root.shadowRoot.appendChild(msg); root.state.chain = new Promise((resolve, reject) => { const observer = new IntersectionObserver((entries) => { for (const entry of entries) { if (entry.isIntersecting) { resolve(); observer.disconnect(); return; } } }, {rootMargin: \"1000px\"}); window.setTimeout(() => { observer.observe(root); }, 0); }); root.state.deferring = false; const _insertNode = (node) => { for (let oldScript of node.querySelectorAll(\"script\")) { let newScript = document.createElement(\"script\"); newScript.type = oldScript.type; newScript.textContent = oldScript.textContent; oldScript.parentNode.replaceChild(newScript, oldScript); } if (root.state.loadingMsg) { root.state.loadingMsg.remove(); root.state.loadingMsg = null; } root.shadowRoot.appendChild(node); }; root.defns.insertContent = ((contentNode, compressed) => { if (compressed) { root.state.deferring = true; } if (root.state.deferring) { root.state.chain = (async () => { await root.state.chain; if (compressed) { const encoded = contentNode.textContent; const blob = new Blob([ Uint8Array.from(atob(encoded), (m) => m.codePointAt(0)) ]); const reader = blob.stream().pipeThrough( new DecompressionStream(\"deflate\") ).pipeThrough( new TextDecoderStream(\"utf-8\") ).getReader(); const parts = []; while (true) { const step = await reader.read(); if (step.done) { break; } parts.push(step.value); } const tpl = document.createElement('template'); tpl.innerHTML = parts.join(\"\"); _insertNode(tpl.content); } else { _insertNode(contentNode.content); } })(); } else { _insertNode(contentNode.content); } }); </script></treescope-run-here><div style=\"display:none\"> <script type=\"application/octet-stream\" >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</script> <treescope-run-here><script type=\"application/octet-stream\"> const root = ( Array.from(document.getElementsByClassName( \"treescope_out_b802016307474224b50ba2c7df05cd1b\")) .filter((elt) => !elt.dataset['step0']) )[0]; root.dataset['step0'] = 1; root.defns.insertContent( this.parentNode.querySelector('script[type=\"application/octet-stream\"]'), true ); this.parentNode.remove(); </script></treescope-run-here> </div>"
      ],
      "text/plain": [
       "<IPython.core.display.HTML object>"
      ]
     },
     "metadata": {},
     "output_type": "display_data"
    },
    {
     "data": {
      "text/html": [
       "<treescope-run-here><script type=\"application/octet-stream\"> const root = ( Array.from(document.getElementsByClassName( \"treescope_out_b802016307474224b50ba2c7df05cd1b\")) .filter((elt) => !elt.dataset.stolen) )[0]; root.dataset.stolen = 1; this.parentNode.replaceChild(root, this); </script></treescope-run-here>"
      ],
      "text/plain": [
       "===============================================================================================================================================================================\n",
       "Layer (type:depth-idx)                             Input Shape               Output Shape              Param #                   Param %                   Mult-Adds\n",
       "===============================================================================================================================================================================\n",
       "VAE                                                [1, 3, 256, 256]          [1, 3, 256, 256]          --                             --                   --\n",
       "├─IdentityTransform: 1-1                           [1, 3, 256, 256]          [1, 3, 256, 256]          --                             --                   --\n",
       "├─Encoder: 1-2                                     [1, 3, 256, 256]          [1, 8, 32, 32]            34,163,592                 40.84%                   135,370,662,144\n",
       "├─Conv2d: 1-3                                      [1, 8, 32, 32]            [1, 8, 32, 32]            72                          0.00%                   73,728\n",
       "├─GaussianDistribution: 1-4                        [1, 8, 32, 32]            [1, 4, 32, 32]            --                             --                   --\n",
       "├─Conv2d: 1-5                                      [1, 4, 32, 32]            [1, 4, 32, 32]            20                          0.00%                   20,480\n",
       "├─Decoder: 1-6                                     [1, 4, 32, 32]            [1, 3, 256, 256]          49,490,179                 59.16%                   310,155,893,248\n",
       "===============================================================================================================================================================================\n",
       "Total params: 83,653,863\n",
       "Trainable params: 83,653,863\n",
       "Non-trainable params: 0\n",
       "Total mult-adds (Units.GIGABYTES): 445.53\n",
       "===============================================================================================================================================================================\n",
       "Input size (MB): 0.79\n",
       "Forward/backward pass size (MB): 3160.05\n",
       "Params size (MB): 334.62\n",
       "Estimated Total Size (MB): 3495.45\n",
       "==============================================================================================================================================================================="
      ]
     },
     "execution_count": 4,
     "metadata": {},
     "output_type": "execute_result"
    }
   ],
   "source": [
    "torchinfo.summary(\n",
    "    vae,\n",
    "    (1, 3, 256, 256),\n",
    "    depth=1,\n",
    "    col_names=(\n",
    "        \"input_size\",\n",
    "        \"output_size\",\n",
    "        \"num_params\",\n",
    "        \"params_percent\",\n",
    "        \"mult_adds\",\n",
    "    ),\n",
    ")"
   ]
  },
  {
   "cell_type": "code",
   "execution_count": 5,
   "metadata": {},
   "outputs": [
    {
     "name": "stdout",
     "output_type": "stream",
     "text": [
      "Runtime: 0.09 ms\n",
      "FLOPs: 1,787.16164096 GFLOPs\n"
     ]
    }
   ],
   "source": [
    "runtime = benchmark_model(vae, (2, 3, 256, 256), device=\"cuda\")\n",
    "print(f\"Runtime: {runtime.median:.2f} ms\")\n",
    "\n",
    "flops = measure_flops(vae, (1, 3, 256, 256), device=\"cuda\")\n",
    "print(f\"FLOPs: {flops['forward_total']/1e9:,} GFLOPs\")"
   ]
  },
  {
   "cell_type": "code",
   "execution_count": 6,
   "metadata": {},
   "outputs": [],
   "source": [
    "import torch\n",
    "import torch.nn as nn\n",
    "from einops import rearrange\n",
    "\n",
    "\n",
    "class GRN(nn.Module):\n",
    "    \"\"\"GRN (Global Response Normalization) layer\"\"\"\n",
    "\n",
    "    def __init__(self, dim):\n",
    "        super().__init__()\n",
    "        self.gamma = nn.Parameter(torch.zeros(1, 1, 1, dim))\n",
    "        self.beta = nn.Parameter(torch.zeros(1, 1, 1, dim))\n",
    "\n",
    "    def forward(self, x):\n",
    "        Gx = torch.norm(x, p=2, dim=(1, 2), keepdim=True)\n",
    "        Nx = Gx / (Gx.mean(dim=-1, keepdim=True) + 1e-6)\n",
    "        return self.gamma * (x * Nx) + self.beta + x\n",
    "\n",
    "\n",
    "class ConvNeXtBlock(nn.Module):\n",
    "    def __init__(\n",
    "        self, *, in_channels: int, out_channels: int = None, dropout: float, **kwargs\n",
    "    ):\n",
    "        super().__init__()\n",
    "        self.in_channels = in_channels\n",
    "        self.out_channels = out_channels or in_channels\n",
    "\n",
    "        self.convdw1 = nn.Conv2d(\n",
    "            in_channels,\n",
    "            in_channels,\n",
    "            kernel_size=7,\n",
    "            padding=3,\n",
    "            groups=in_channels,\n",
    "        )\n",
    "        self.norm1 = nn.LayerNorm(in_channels)\n",
    "        self.pwconv1_1 = nn.Linear(in_channels, 4 * in_channels)\n",
    "        self.act1 = nn.GELU()\n",
    "        self.gn1 = GRN(4 * in_channels)\n",
    "        self.pwconv1_2 = nn.Linear(4 * in_channels, in_channels)\n",
    "\n",
    "        self.up_proj = (\n",
    "            nn.Conv2d(in_channels, out_channels, kernel_size=1, stride=1)\n",
    "            if in_channels != out_channels\n",
    "            else nn.Identity()\n",
    "        )\n",
    "        self.nin_shortcut = (\n",
    "            nn.Conv2d(in_channels, out_channels, kernel_size=1, stride=1)\n",
    "            if in_channels != out_channels\n",
    "            else nn.Identity()\n",
    "        )\n",
    "\n",
    "    def forward(self, x):\n",
    "        h = x\n",
    "        h = self.convdw1(h)\n",
    "        h = rearrange(h, \"b c h w -> b h w c\")\n",
    "        # h = h.permute()\n",
    "        h = self.norm1(h)\n",
    "        h = self.pwconv1_1(h)\n",
    "        h = self.act1(h)\n",
    "        h = self.gn1(h)\n",
    "        h = self.pwconv1_2(h)\n",
    "        h = rearrange(h, \"b h w c -> b c h w\")\n",
    "\n",
    "        x = self.up_proj(h) + self.nin_shortcut(x)\n",
    "        return x\n",
    "    \n",
    "class ConvNeXtStarBlock(nn.Module):\n",
    "    def __init__(\n",
    "        self, *, in_channels: int, out_channels: int = None, dropout: float, **kwargs\n",
    "    ):\n",
    "        super().__init__()\n",
    "        self.in_channels = in_channels\n",
    "        self.out_channels = out_channels or in_channels\n",
    "\n",
    "        self.convdw1 = nn.Conv2d(\n",
    "            in_channels,\n",
    "            in_channels,\n",
    "            kernel_size=7,\n",
    "            padding=3,\n",
    "            groups=in_channels,\n",
    "        )\n",
    "        self.norm1 = nn.LayerNorm(in_channels)\n",
    "        self.pwconv1_1 = nn.Linear(in_channels, 4 * in_channels)\n",
    "        self.act1 = nn.ReLU6()\n",
    "        self.gn1 = GRN(2 * in_channels)\n",
    "        self.pwconv1_2 = nn.Linear(2 * in_channels, in_channels)\n",
    "\n",
    "        self.up_proj = (\n",
    "            nn.Conv2d(in_channels, out_channels, kernel_size=1, stride=1)\n",
    "            if in_channels != out_channels\n",
    "            else nn.Identity()\n",
    "        )\n",
    "        self.nin_shortcut = (\n",
    "            nn.Conv2d(in_channels, out_channels, kernel_size=1, stride=1)\n",
    "            if in_channels != out_channels\n",
    "            else nn.Identity()\n",
    "        )\n",
    "\n",
    "    def forward(self, x):\n",
    "        h = x\n",
    "        h = self.convdw1(h)\n",
    "        h = rearrange(h, \"b c h w -> b h w c\")\n",
    "        # h = h.permute()\n",
    "        h = self.norm1(h)\n",
    "        h = self.pwconv1_1(h)\n",
    "        h1, h2 = torch.chunk(h, 2, dim=-1)\n",
    "        h = self.act1(h1) * h2\n",
    "        h = self.gn1(h)\n",
    "        h = self.pwconv1_2(h)\n",
    "        h = rearrange(h, \"b h w c -> b c h w\")\n",
    "\n",
    "        x = self.up_proj(h) + self.nin_shortcut(x)\n",
    "        return x"
   ]
  },
  {
   "cell_type": "code",
   "execution_count": 7,
   "metadata": {},
   "outputs": [
    {
     "name": "stdout",
     "output_type": "stream",
     "text": [
      "Wavelet Transform: None\n",
      "z of shape: (1, 4, 32, 32), dimensions: 4096\n",
      "Total number of parameters: 44,460,007\n",
      "Number of parameters in the encoder: 16,672,008\n",
      "Number of parameters in the decoder: 27,787,907\n"
     ]
    }
   ],
   "source": [
    "vae = VAE(\n",
    "    in_channels=3,\n",
    "    out_channels=3,\n",
    "    channels=128,\n",
    "    channels_mult=[1,2,4,4],\n",
    "    num_res_blocks=2,\n",
    "    attn_resolutions=[],\n",
    "    dropout=0.0,\n",
    "    resolution=256,\n",
    "    z_channels=4,\n",
    "    spatial_compression=8,\n",
    "    prior=\"gaussian\",\n",
    "    block_fn=\"convnext\",\n",
    ")\n",
    "num_params = sum(p.numel() for p in vae.parameters())\n",
    "num_params_encoder = sum(p.numel() for p in vae.encoder.parameters())\n",
    "num_params_decoder = sum(p.numel() for p in vae.decoder.parameters())\n",
    "print(f\"Total number of parameters: {num_params:,}\")\n",
    "print(f\"Number of parameters in the encoder: {num_params_encoder:,}\")\n",
    "print(f\"Number of parameters in the decoder: {num_params_decoder:,}\")"
   ]
  },
  {
   "cell_type": "code",
   "execution_count": 8,
   "metadata": {},
   "outputs": [
    {
     "data": {
      "text/html": [
       "<script> (()=>{ if (customElements.get('treescope-container') === undefined) { class TreescopeContainer extends HTMLElement { constructor() { super(); this.attachShadow({mode: \"open\"}); this.defns = {}; this.state = {}; } } customElements.define(\"treescope-container\", TreescopeContainer); } if (customElements.get('treescope-run-here') === undefined) { class RunHere extends HTMLElement { constructor() { super() } connectedCallback() { const run = child => { const fn = new Function(child.textContent); child.textContent = \"\"; fn.call(this); this.remove(); }; const child = this.querySelector(\"script\"); if (child) { run(child); } else { new MutationObserver(()=>{ run(this.querySelector(\"script\")); }).observe(this, {childList: true}); } } } customElements.define(\"treescope-run-here\", RunHere); } })(); </script> <treescope-container class=\"treescope_out_2acde456a26c4fda9e2b10a78b4ea63b\" ></treescope-container> <treescope-run-here><script type=\"application/octet-stream\"> const root = ( Array.from(document.getElementsByClassName( \"treescope_out_2acde456a26c4fda9e2b10a78b4ea63b\")) .filter((elt) => !elt.dataset.setup) )[0]; root.dataset.setup = 1; const msg = document.createElement(\"span\"); msg.style = \"color: #cccccc; font-family: monospace;\"; msg.textContent = \"(Loading...)\"; root.state.loadingMsg = msg; root.shadowRoot.appendChild(msg); root.state.chain = new Promise((resolve, reject) => { const observer = new IntersectionObserver((entries) => { for (const entry of entries) { if (entry.isIntersecting) { resolve(); observer.disconnect(); return; } } }, {rootMargin: \"1000px\"}); window.setTimeout(() => { observer.observe(root); }, 0); }); root.state.deferring = false; const _insertNode = (node) => { for (let oldScript of node.querySelectorAll(\"script\")) { let newScript = document.createElement(\"script\"); newScript.type = oldScript.type; newScript.textContent = oldScript.textContent; oldScript.parentNode.replaceChild(newScript, oldScript); } if (root.state.loadingMsg) { root.state.loadingMsg.remove(); root.state.loadingMsg = null; } root.shadowRoot.appendChild(node); }; root.defns.insertContent = ((contentNode, compressed) => { if (compressed) { root.state.deferring = true; } if (root.state.deferring) { root.state.chain = (async () => { await root.state.chain; if (compressed) { const encoded = contentNode.textContent; const blob = new Blob([ Uint8Array.from(atob(encoded), (m) => m.codePointAt(0)) ]); const reader = blob.stream().pipeThrough( new DecompressionStream(\"deflate\") ).pipeThrough( new TextDecoderStream(\"utf-8\") ).getReader(); const parts = []; while (true) { const step = await reader.read(); if (step.done) { break; } parts.push(step.value); } const tpl = document.createElement('template'); tpl.innerHTML = parts.join(\"\"); _insertNode(tpl.content); } else { _insertNode(contentNode.content); } })(); } else { _insertNode(contentNode.content); } }); </script></treescope-run-here><div style=\"display:none\"> <script type=\"application/octet-stream\" >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</script> <treescope-run-here><script type=\"application/octet-stream\"> const root = ( Array.from(document.getElementsByClassName( \"treescope_out_2acde456a26c4fda9e2b10a78b4ea63b\")) .filter((elt) => !elt.dataset['step0']) )[0]; root.dataset['step0'] = 1; root.defns.insertContent( this.parentNode.querySelector('script[type=\"application/octet-stream\"]'), true ); this.parentNode.remove(); </script></treescope-run-here> </div>"
      ],
      "text/plain": [
       "<IPython.core.display.HTML object>"
      ]
     },
     "metadata": {},
     "output_type": "display_data"
    },
    {
     "data": {
      "text/html": [
       "<treescope-run-here><script type=\"application/octet-stream\"> const root = ( Array.from(document.getElementsByClassName( \"treescope_out_2acde456a26c4fda9e2b10a78b4ea63b\")) .filter((elt) => !elt.dataset.stolen) )[0]; root.dataset.stolen = 1; this.parentNode.replaceChild(root, this); </script></treescope-run-here>"
      ],
      "text/plain": [
       "===============================================================================================================================================================================\n",
       "Layer (type:depth-idx)                             Input Shape               Output Shape              Param #                   Param %                   Mult-Adds\n",
       "===============================================================================================================================================================================\n",
       "VAE                                                [1, 3, 256, 256]          [1, 3, 256, 256]          --                             --                   --\n",
       "├─IdentityTransform: 1-1                           [1, 3, 256, 256]          [1, 3, 256, 256]          --                             --                   --\n",
       "├─Encoder: 1-2                                     [1, 3, 256, 256]          [1, 8, 32, 32]            16,672,008                 37.50%                   12,187,502,208\n",
       "├─Conv2d: 1-3                                      [1, 8, 32, 32]            [1, 8, 32, 32]            72                          0.00%                   73,728\n",
       "├─GaussianDistribution: 1-4                        [1, 8, 32, 32]            [1, 4, 32, 32]            --                             --                   --\n",
       "├─Conv2d: 1-5                                      [1, 4, 32, 32]            [1, 4, 32, 32]            20                          0.00%                   20,480\n",
       "├─Decoder: 1-6                                     [1, 4, 32, 32]            [1, 3, 256, 256]          27,787,907                 62.50%                   99,920,355,072\n",
       "===============================================================================================================================================================================\n",
       "Total params: 44,460,007\n",
       "Trainable params: 44,460,007\n",
       "Non-trainable params: 0\n",
       "Total mult-adds (Units.GIGABYTES): 112.11\n",
       "===============================================================================================================================================================================\n",
       "Input size (MB): 0.79\n",
       "Forward/backward pass size (MB): 8440.68\n",
       "Params size (MB): 177.84\n",
       "Estimated Total Size (MB): 8619.30\n",
       "==============================================================================================================================================================================="
      ]
     },
     "execution_count": 8,
     "metadata": {},
     "output_type": "execute_result"
    }
   ],
   "source": [
    "torchinfo.summary(\n",
    "    vae,\n",
    "    (1, 3, 256, 256),\n",
    "    depth=1,\n",
    "    col_names=(\n",
    "        \"input_size\",\n",
    "        \"output_size\",\n",
    "        \"num_params\",\n",
    "        \"params_percent\",\n",
    "        \"mult_adds\",\n",
    "    ),\n",
    ")"
   ]
  },
  {
   "cell_type": "code",
   "execution_count": 9,
   "metadata": {},
   "outputs": [
    {
     "name": "stdout",
     "output_type": "stream",
     "text": [
      "Runtime: 2.91 ms\n",
      "FLOPs: 1,200.879730688 GFLOPs\n"
     ]
    }
   ],
   "source": [
    "runtime = benchmark_model(vae, (2, 3, 256, 256), device=\"cuda\")\n",
    "print(f\"Runtime: {runtime.median:.2f} ms\")\n",
    "\n",
    "flops = measure_flops(vae, (1, 3, 256, 256), device=\"cuda\")\n",
    "print(f\"FLOPs: {flops['forward_total']/1e9:,} GFLOPs\")"
   ]
  },
  {
   "cell_type": "code",
   "execution_count": 10,
   "metadata": {},
   "outputs": [
    {
     "name": "stdout",
     "output_type": "stream",
     "text": [
      "Wavelet Transform: None\n",
      "z of shape: (1, 4, 32, 32), dimensions: 4096\n",
      "Total number of parameters: 36,264,423\n",
      "Number of parameters in the encoder: 13,676,296\n",
      "Number of parameters in the decoder: 22,588,035\n"
     ]
    }
   ],
   "source": [
    "vae = VAE(\n",
    "    in_channels=3,\n",
    "    out_channels=3,\n",
    "    channels=128,\n",
    "    channels_mult=[1,2,4,4],\n",
    "    num_res_blocks=2,\n",
    "    attn_resolutions=[],\n",
    "    dropout=0.0,\n",
    "    resolution=256,\n",
    "    z_channels=4,\n",
    "    spatial_compression=8,\n",
    "    prior=\"gaussian\",\n",
    "    block_fn=\"convnext-star\"\n",
    ")\n",
    "num_params = sum(p.numel() for p in vae.parameters())\n",
    "num_params_encoder = sum(p.numel() for p in vae.encoder.parameters())\n",
    "num_params_decoder = sum(p.numel() for p in vae.decoder.parameters())\n",
    "print(f\"Total number of parameters: {num_params:,}\")\n",
    "print(f\"Number of parameters in the encoder: {num_params_encoder:,}\")\n",
    "print(f\"Number of parameters in the decoder: {num_params_decoder:,}\")"
   ]
  },
  {
   "cell_type": "code",
   "execution_count": 11,
   "metadata": {},
   "outputs": [
    {
     "data": {
      "text/html": [
       "<script> (()=>{ if (customElements.get('treescope-container') === undefined) { class TreescopeContainer extends HTMLElement { constructor() { super(); this.attachShadow({mode: \"open\"}); this.defns = {}; this.state = {}; } } customElements.define(\"treescope-container\", TreescopeContainer); } if (customElements.get('treescope-run-here') === undefined) { class RunHere extends HTMLElement { constructor() { super() } connectedCallback() { const run = child => { const fn = new Function(child.textContent); child.textContent = \"\"; fn.call(this); this.remove(); }; const child = this.querySelector(\"script\"); if (child) { run(child); } else { new MutationObserver(()=>{ run(this.querySelector(\"script\")); }).observe(this, {childList: true}); } } } customElements.define(\"treescope-run-here\", RunHere); } })(); </script> <treescope-container class=\"treescope_out_b969f5de0a634e5a81815014d9653334\" ></treescope-container> <treescope-run-here><script type=\"application/octet-stream\"> const root = ( Array.from(document.getElementsByClassName( \"treescope_out_b969f5de0a634e5a81815014d9653334\")) .filter((elt) => !elt.dataset.setup) )[0]; root.dataset.setup = 1; const msg = document.createElement(\"span\"); msg.style = \"color: #cccccc; font-family: monospace;\"; msg.textContent = \"(Loading...)\"; root.state.loadingMsg = msg; root.shadowRoot.appendChild(msg); root.state.chain = new Promise((resolve, reject) => { const observer = new IntersectionObserver((entries) => { for (const entry of entries) { if (entry.isIntersecting) { resolve(); observer.disconnect(); return; } } }, {rootMargin: \"1000px\"}); window.setTimeout(() => { observer.observe(root); }, 0); }); root.state.deferring = false; const _insertNode = (node) => { for (let oldScript of node.querySelectorAll(\"script\")) { let newScript = document.createElement(\"script\"); newScript.type = oldScript.type; newScript.textContent = oldScript.textContent; oldScript.parentNode.replaceChild(newScript, oldScript); } if (root.state.loadingMsg) { root.state.loadingMsg.remove(); root.state.loadingMsg = null; } root.shadowRoot.appendChild(node); }; root.defns.insertContent = ((contentNode, compressed) => { if (compressed) { root.state.deferring = true; } if (root.state.deferring) { root.state.chain = (async () => { await root.state.chain; if (compressed) { const encoded = contentNode.textContent; const blob = new Blob([ Uint8Array.from(atob(encoded), (m) => m.codePointAt(0)) ]); const reader = blob.stream().pipeThrough( new DecompressionStream(\"deflate\") ).pipeThrough( new TextDecoderStream(\"utf-8\") ).getReader(); const parts = []; while (true) { const step = await reader.read(); if (step.done) { break; } parts.push(step.value); } const tpl = document.createElement('template'); tpl.innerHTML = parts.join(\"\"); _insertNode(tpl.content); } else { _insertNode(contentNode.content); } })(); } else { _insertNode(contentNode.content); } }); </script></treescope-run-here><div style=\"display:none\"> <script type=\"application/octet-stream\" >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</script> <treescope-run-here><script type=\"application/octet-stream\"> const root = ( Array.from(document.getElementsByClassName( \"treescope_out_b969f5de0a634e5a81815014d9653334\")) .filter((elt) => !elt.dataset['step0']) )[0]; root.dataset['step0'] = 1; root.defns.insertContent( this.parentNode.querySelector('script[type=\"application/octet-stream\"]'), true ); this.parentNode.remove(); </script></treescope-run-here> </div>"
      ],
      "text/plain": [
       "<IPython.core.display.HTML object>"
      ]
     },
     "metadata": {},
     "output_type": "display_data"
    },
    {
     "data": {
      "text/html": [
       "<treescope-run-here><script type=\"application/octet-stream\"> const root = ( Array.from(document.getElementsByClassName( \"treescope_out_b969f5de0a634e5a81815014d9653334\")) .filter((elt) => !elt.dataset.stolen) )[0]; root.dataset.stolen = 1; this.parentNode.replaceChild(root, this); </script></treescope-run-here>"
      ],
      "text/plain": [
       "===============================================================================================================================================================================\n",
       "Layer (type:depth-idx)                             Input Shape               Output Shape              Param #                   Param %                   Mult-Adds\n",
       "===============================================================================================================================================================================\n",
       "VAE                                                [1, 3, 256, 256]          [1, 3, 256, 256]          --                             --                   --\n",
       "├─IdentityTransform: 1-1                           [1, 3, 256, 256]          [1, 3, 256, 256]          --                             --                   --\n",
       "├─Encoder: 1-2                                     [1, 3, 256, 256]          [1, 8, 32, 32]            13,676,296                 37.71%                   12,184,520,320\n",
       "├─Conv2d: 1-3                                      [1, 8, 32, 32]            [1, 8, 32, 32]            72                          0.00%                   73,728\n",
       "├─GaussianDistribution: 1-4                        [1, 8, 32, 32]            [1, 4, 32, 32]            --                             --                   --\n",
       "├─Conv2d: 1-5                                      [1, 4, 32, 32]            [1, 4, 32, 32]            20                          0.00%                   20,480\n",
       "├─Decoder: 1-6                                     [1, 4, 32, 32]            [1, 3, 256, 256]          22,588,035                 62.29%                   99,915,177,728\n",
       "===============================================================================================================================================================================\n",
       "Total params: 36,264,423\n",
       "Trainable params: 36,264,423\n",
       "Non-trainable params: 0\n",
       "Total mult-adds (Units.GIGABYTES): 112.10\n",
       "===============================================================================================================================================================================\n",
       "Input size (MB): 0.79\n",
       "Forward/backward pass size (MB): 7039.78\n",
       "Params size (MB): 145.06\n",
       "Estimated Total Size (MB): 7185.62\n",
       "==============================================================================================================================================================================="
      ]
     },
     "execution_count": 11,
     "metadata": {},
     "output_type": "execute_result"
    }
   ],
   "source": [
    "torchinfo.summary(\n",
    "    vae,\n",
    "    (1, 3, 256, 256),\n",
    "    depth=1,\n",
    "    col_names=(\n",
    "        \"input_size\",\n",
    "        \"output_size\",\n",
    "        \"num_params\",\n",
    "        \"params_percent\",\n",
    "        \"mult_adds\",\n",
    "    ),\n",
    ")"
   ]
  },
  {
   "cell_type": "code",
   "execution_count": 12,
   "metadata": {},
   "outputs": [
    {
     "name": "stdout",
     "output_type": "stream",
     "text": [
      "Runtime: 1.18 ms\n",
      "FLOPs: 1,014.048653312 GFLOPs\n"
     ]
    }
   ],
   "source": [
    "runtime = benchmark_model(vae, (2, 3, 256, 256), device=\"cuda\")\n",
    "print(f\"Runtime: {runtime.median:.2f} ms\")\n",
    "\n",
    "flops = measure_flops(vae, (1, 3, 256, 256), device=\"cuda\")\n",
    "print(f\"FLOPs: {flops['forward_total']/1e9:,} GFLOPs\")"
   ]
  },
  {
   "cell_type": "code",
   "execution_count": 13,
   "metadata": {},
   "outputs": [
    {
     "data": {
      "text/html": [
       "<script> (()=>{ if (customElements.get('treescope-container') === undefined) { class TreescopeContainer extends HTMLElement { constructor() { super(); this.attachShadow({mode: \"open\"}); this.defns = {}; this.state = {}; } } customElements.define(\"treescope-container\", TreescopeContainer); } if (customElements.get('treescope-run-here') === undefined) { class RunHere extends HTMLElement { constructor() { super() } connectedCallback() { const run = child => { const fn = new Function(child.textContent); child.textContent = \"\"; fn.call(this); this.remove(); }; const child = this.querySelector(\"script\"); if (child) { run(child); } else { new MutationObserver(()=>{ run(this.querySelector(\"script\")); }).observe(this, {childList: true}); } } } customElements.define(\"treescope-run-here\", RunHere); } })(); </script> <treescope-container class=\"treescope_out_1b3fbc656904466ea84d88e6d9eae020\" ></treescope-container> <treescope-run-here><script type=\"application/octet-stream\"> const root = ( Array.from(document.getElementsByClassName( \"treescope_out_1b3fbc656904466ea84d88e6d9eae020\")) .filter((elt) => !elt.dataset.setup) )[0]; root.dataset.setup = 1; const msg = document.createElement(\"span\"); msg.style = \"color: #cccccc; font-family: monospace;\"; msg.textContent = \"(Loading...)\"; root.state.loadingMsg = msg; root.shadowRoot.appendChild(msg); root.state.chain = new Promise((resolve, reject) => { const observer = new IntersectionObserver((entries) => { for (const entry of entries) { if (entry.isIntersecting) { resolve(); observer.disconnect(); return; } } }, {rootMargin: \"1000px\"}); window.setTimeout(() => { observer.observe(root); }, 0); }); root.state.deferring = false; const _insertNode = (node) => { for (let oldScript of node.querySelectorAll(\"script\")) { let newScript = document.createElement(\"script\"); newScript.type = oldScript.type; newScript.textContent = oldScript.textContent; oldScript.parentNode.replaceChild(newScript, oldScript); } if (root.state.loadingMsg) { root.state.loadingMsg.remove(); root.state.loadingMsg = null; } root.shadowRoot.appendChild(node); }; root.defns.insertContent = ((contentNode, compressed) => { if (compressed) { root.state.deferring = true; } if (root.state.deferring) { root.state.chain = (async () => { await root.state.chain; if (compressed) { const encoded = contentNode.textContent; const blob = new Blob([ Uint8Array.from(atob(encoded), (m) => m.codePointAt(0)) ]); const reader = blob.stream().pipeThrough( new DecompressionStream(\"deflate\") ).pipeThrough( new TextDecoderStream(\"utf-8\") ).getReader(); const parts = []; while (true) { const step = await reader.read(); if (step.done) { break; } parts.push(step.value); } const tpl = document.createElement('template'); tpl.innerHTML = parts.join(\"\"); _insertNode(tpl.content); } else { _insertNode(contentNode.content); } })(); } else { _insertNode(contentNode.content); } }); </script></treescope-run-here><div style=\"display:none\"> <script type=\"application/octet-stream\" >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</script> <treescope-run-here><script type=\"application/octet-stream\"> const root = ( Array.from(document.getElementsByClassName( \"treescope_out_1b3fbc656904466ea84d88e6d9eae020\")) .filter((elt) => !elt.dataset['step0']) )[0]; root.dataset['step0'] = 1; root.defns.insertContent( this.parentNode.querySelector('script[type=\"application/octet-stream\"]'), true ); this.parentNode.remove(); </script></treescope-run-here> </div>"
      ],
      "text/plain": [
       "<IPython.core.display.HTML object>"
      ]
     },
     "metadata": {},
     "output_type": "display_data"
    },
    {
     "data": {
      "text/html": [
       "<div style=\"display:none\"> <script type=\"application/octet-stream\" >eNrtfWl64ziy4P88BTu7uiWXbJmkFkLpzOxPm2XZkknbsmU7x18WN0nUQkrcRCqf/8+7x8wB5gpzlHeSAcBF3CQvlfV6+utyLiaBQCAQEQgEAgs/S4pNGKY7l798lBRjOefdT4SqqfJHQpG+fBxp+ndJHsm6LkvfK7WSQDGUJJE1qlylKaFck0uUxNBymR8x5erHr5+NJa/C/xG+r0Ve13nXVjbfRU01eUWVdeIHsZ4opnwE4UQZVaQv+PkJ8UxkARcVdaTBIiOYcjTiF8oc0rbQVA2XPiFEba7pn4i/8vjnhFjw+lhRjwTNNLXFJ4Is0hV5cRKvcanL+6tT1KVlfjPdJWSIzqtj+eMTJMGWdVMR+fkRP1fGKqRCkaQ5xDRS5qYMaRhDbAbMl/PUAaHBqhTTzZPFysGbK/s00WzMqDTqt+FTrYUg6xChqpn5TyNNtIwDiFbQdEnWj3ReUizjE1FaOr8PpfeMiUboA5kw+OfEr+4TQS0dwtDmirTN2lNr0YCQsm4k9WWf9DAJprKEZWKKfEIsNUMxFQ2KjRcgDZYJ0wRenI11zVKlI59kXFEWwcIcwkIsvCQp6tjTK3GC0CoqlNCRbMuqaQSVrRXJnHyC0jOPEHEw64RAlI3m2voTYSuGIiDFSTdrc6SokuzAmkmS3N9KQXNe2UrNOTImvISqJvEf1CzcoEM/gYYJftOzGxTSVdtDljhXxJnEm/xbJDbXeMTR7wvZMPixHNGeoEc/F3HKd14QdNmOAFQBzWNyPh97xuazqcuyIWpL+Ui31KOJrMM0Q9SVpUlg5c3xyyUkkkcsOtZEUzaPDFiGX+S+fkA/kC7DJAIyiS9EPn9AfPlK/PhAEPDvyFJFVJSQZEPWFWgGNvItZBfIo14FAQhCl01LVwmcWkd4iiNdW+R5UxMg0CGRX2CEC9gmSeYQr+tmnjw4OIGlnz/sruYU8sks0duKPFIF15QNSOe76guQjBBuhEWV14RfEcaVx+iLgjWCxt8v4jfQK/MS1V31v4VmXM2bKPZInssm0UTKtOCX151GC6ruSbI1Y9lsQm1VVEuzDAyct/m5JR96aghLomJBCxFGgTfk77i7HBLaaGTIpkeHMiK8osTnLwQZlCAi8LA55Imf6pXcpjwT8tyQI0i+fiGoHUiilBXnsjo2J8QRQadQU8U48gCZx2LRNEKMXpW/Evls1NTBSRYdfd6cFCHfIc9CZAcpKrb1/I2gfHoiktYTDfq2reLpG/mEiKIgCR66A6Lgoyd2FSIKBOUXjErHq2y8rzLqvZVR2ZUJ+yqj31sZnazM1/9v+iExPiSEp+xO66rQtxLrumgo6uRahtjzfn0z2cWDwp2v9nNl2eehbuv8uq+o3m/07qPo8MtALUPshsnDAe8GOTCSX0UeljB5a6vBSLP/ohinigpHjjzO+o//8FQIjmV554A4RgWIzwQlH5W35cIGOoFmJbQ5BMC4DOi6IWS/YmS/hjDoBwPMtXE+XWvBL73STSgU/22prfOOB3BI0AcHoW4/R7Q47PsxPhJfYjYA5Xv8TGQk2I80xuP/zsYm4T20WZQlIcNWxzICK4qlHEAteCcfyN0n6OBkR0s/hxAhlf+kX163g9JCfYb48iEhedlZ5kMViPMAdsOtekPdCcGCpoWiD+uArApqOvY6cpwtxwnGeYMHZCy0tbBsVpcJux7qHScR1QlKJVQnRAZ7DEXGVSA0r6irL2VkZZG2w3F3X2c99nEGuPyeFSDJHE1+t7S2Sh9wcvuapapJRIivkqxqC0WFPoYe6rCi5iMqkNXshOnzWYBJiFi7wxewBB0FFY+JLUZUQnZxgjMF6DP/VWKLoNsOsalRwNRukCN9Y+rQJffG+rjvFg4iwdAVG2J+08dC/pcf+jPxy48x+k94Pvgtc7hBEwCdN6BbNX5fjREINF9R4bTHhRBFmqKrsH/q0EQXGapCw+cxeiYZGj0LWyO1LfaVoGiw5b3fmByeIeUyVToAwbOcXIyhiYbCCfyc4004o1KhDwTlAf+6h3AeiZPCgRIKOY/UVMEOH/z1OQDxnSyYVigcJDw0XVtDeB/wm/IUKEiIbuqhm0J0EDZENY2i8gcfbf1t+hRNhZWYThHRfy2LZh55F1NIO/ylHBLUYcTn22rkc0q1PEIlZayY2HnmdGXB60hU3zBs7q8j/JM7hI/UiGGEMn4cjZgRKeNHWuRJWsSPUpVmaIAfa+UqI0j4EYiValnIHfoI5RLDiDTOEURBor1HihFkcZSDMJhNSbpuZJgixSljRugPLs3LIiMDnzJBYHwagDQCvJ9aA7UqfhQrAilVvMdyTayVQ8pGjFCVPHIkQRKAR35Nlni5ElL2IaROlOfzGziLgiQxJ15GYtICZyYjZZyas0jQ4rCq3ITlAwuHdQ8KGU9bDgl/CqMY0LIp0nYu4yE8DA16oBC+c4ahI1roKwjuwpDKnDabi5N8pfI3FFU4yJ18yFAkWBXsiAymxntAfw9O9uNkyATOVMfy8SInOMTtvXwL9fQbeUhs/z4dxjIonEqlM35KiaeD1DwuzvQiilDAYQA2WQwnnLlklxd9tz/mvaRQBVCx0UYxLvlLb/J4EO3oKY5HDd9bxZeBDg0KdKWC+QF/H0Qwv0uIkMVUhMXUU3T83SmWUDBUSpT7S+2q6+kg4YJvp+ZQhl0oBziRcWOM9iSIRAX5khFYgPPxQyIluzRLs4bpnyWuvSPz75ecx2Lq7eJ5X1ZmXfsld/Qu0ZH/FqLbcjRLCLu6z/7+uL+rUi90uqSI/IFLQhNffwzzTd5J3N8J4L6iKFjC73lvP32ruN8q8HeL/N1C39vBXsqkIv2PelPJ3ZlPUa9z23tDcX4myDeLk/z3Eye5j+/ku8X5ZrQZ4oyKbuu2BAI+iMs2nOO/3ffIrDCFIpaHfuIqkKFNAaURlYqJ7vnd+pKYZb3kSBK5JQ8nC6YfHc6lwm+/y6OM96og+xu2tU9Rt9MHgfRYkAw4tMrSn97nz/c+kwPhjrhJFo/CsM0hjtscRgI3bxfBq5UTz70Fbadeokksx+um0XBbCDScmGO+RCdciH/MUzoFio0+JErZOZCxlRchqj5EGf0uQQV6EbLiQ+IS5feUKKHfld9XEv6uIn3Zzj6jMWZFtdE8HjJ0xEMpRTur5wX/jaCIvyTikVvvKSxt6pb8ghaq8pg3FVsOlxA/b1c4A5gFP4butiXFliCSPlskXoNWfcMyRWSPsSk+KBrLuWLmc7mEq+cVChYrP6cUy8/JchoQ6PclgoV1Jst9iyF+itp4xOWljrdQfNflpcybxndthFarrfk8No5nBP5iaE+IQkFJjnl+DzdMSM0hYSiS7NPgU+mRHAkIpngIAS/xPh6fOxD2IA4ccg6b7nRjkjSlzUpGcM1jWYIs4nWs2jFe76vXDza+pVYMmqg20z/AtjDlHWxHEF8421EkJa3o804PIeEMBf3pYL/Xkh5FU67SrsEvYte/JZr3Ldv3207yMjMyHMKnHc3NEHC0/ZmGJ+oWRYNdHvCfnsbP9DQy94q8mg2vZ++OpRTkRnhLcXVV6qqSIspGPhnJVrx09GBAPcFFExuQAoP+zTcJ2AgHa0mwEAEtQVbpQLNgzrcc8mNyT9iTgaOOrPPzXFTZcB3FpWVMggKY0Fxm7CmNMumxB6SHm2b8Zn7zi/KOYuSenuIDXwD8hfChjJmy/I7tUC6x1BMh97dffmSAP3+KJ8uqBBN/y56N+xV/fmu9XrksrC+VIY6y6kI7k9B61X66XyMPT3jJRbPUgkiaPFzwDS3K5Re8MZMlQrPMg9y7yPw+17SZtUxRG6zfEH//O/EXv6wyVjUdTRCxtdwjnd10pZvjqaphCYYJfTTcd0MV9Gj7jteqc0+J6WJAabzorpljikJLnanaWo2Rt8NriJSLVrZrXHoN71EXzGI98u6yu20RFcnus19f7johzvf0gLRevUlsXpUJ0l8rtRdltr+H7JDX866JSLS6z//4mktMKrS5XJR1XdPzuVuPlqjtz/njSObOLn8XgFfBVFPUYO4R22Bah0K+WcpiapX2O3T+ePdWNZX5nbcjPC/JKPaHtycfEjwGC3gXGb/w/nEFjjouKxiybuPNO/4+WFk3ZFwuyMrnoY+rK7IRbmQO5OWnfyOfikqk4DWqHiogmR59/L3afV6foX35X4gIvcWVJevuDfRnRVPT6/N5Ppfc2x1lvde4fHRZIpgKyXPUYRKVxVUIghR1eaHZcv4gS5XTHCpKigEboSLfIynMQ+LHc7hXGDbDMOsqnDggAk91fiFHNoHvQK55D1H5Ba5M9s5uwVLmUt3fZ36qjC09IXwRR0uCVr+kKnECv78We5zEqGq+kb7AeRppXhAbBXrQW3S3K95V3+ANuVreAkUSU7AtL1QUA8VpUUg8bvXh0JTEnMiIlkFHFFDQQMLb0H34SGIU1gm6bwR0mxaFdDMg3UxIYw7HACkDPJERLROPom2LiImdIBEvV3GgJeRkHW0D2RaIJSc4acmn2MdG6w/diAMc4+ouoJMPWzuFujGW13a7VVSkcLQceccMIiMlBvBsSvLQQ0RL0rsoEogV9UW03qmEnUiDkuYEzU2QXW1744OlGtZyqekmdIMkPPIfpLerY737jpyleKXeOZGEVh5EmRZyTpujSa6/FR4liJauQ2sdTzTkJZ7EkNFZTCKUFO7V3apsMQg+uMmkg8QeM1SBN2769W9j/yE9iNRC8B7u7Mf0xxKfk+2Mt9jUTH7e1OZGot3afIhOUuF2Uk/bDK85kKupaVyCAal2Z+6jMyAALLMFjoTO/Dgm2pELc4rQe4I+FX7ELlYAtqXIY9nWNYm2bfv8K0RZwCyGdaGd/mrsGEXYcg9bWC6mcCHnrrV1gnNQc89kZTwxU6xzX8s69y2sc38H69z9rPMbt31+gXXbpkd4hwoe7FBFf8gRUVztBllgFnu3qNIfz7v5kzDWr2BSokSEU+nKv2E+qdD7eIqcAfqQpFrk4czNiC7d5SVNtBaw4xVFXeZNuT2X0Vs+54HmwmNU+LWITyqivd9b1SwQNDoeEew+jIFPMGdDeCyPbPgIU5u4LFonlR0zRquP1V9Fhbn5HC1hEjOMhL/jGp9NufA3ZsfixNuYPXQ/0fCGRBh3jSKrIMHIeb3dAB8NOe9busrcn5dZxKc57r36+/xhhSn4ReQ4QGRzf2p3uL+7P7kzPLW+7O2JwSdA6oKRVWOYGd+YEBbknT0FcWaK4GxBffH4m17LSInB39COtxwjhqAt92jzdpI52ev3vgOJN8D3A5R7jjdtf7LoPkS1Hm5ZeLhlyiFBFqnKwclrmxOjCSUW0AG+4+25vBeD4f56GToklKE6ipohwrfomXf4aBE9qPNSo8hi5RUS2SPhI9QcLGFEqff2QhDmQ8bpDui8d5MnKCNhXWyA4ZwyYYFj5y1CFIUv0RlC1BD/ut9QnyQp9KcQ2/Ek4o4gDfRsE5nYU+Fu4d398L4Z2w79BDp3PZehddbRoaUfkfUT3yvwYMPUneCxx8gEAZbHjvO3kF9PaaULAo1fYt6wbwCIf+D1G+IT8Ze/bLN34MvYyR6NICTGljfscP+QWreL6WhMB7MfPWdKsnlVlJuapZpR3XuvU+V7RIFuQf+mEBFu6OCg1K2fg8EChygOu1OrYw5bXH23FiFKx9cvEUcNLRen1mETr3HepJsRb2aCd3Haj16kHXbNGHVJXIhnEEt+B9MO9pffsfCceBWgvzXbvXT8nDC3Cd35ErIjcz9CorZUXdFxg/iQ3rURswPObrV9zyQKz3/2qCwyUYUv2znNTn3dqa3Ofm1F7HTiuurs09XYi/OCnjr7tHSnjjqZOurs1jHEJKSh2Vw62Fc4Uz1frS4x99VJKqWzTyk/7Kxh12Ad/5VhwotzRZWH/qSEOtkDaJi6NpN3LObvwtzklwjYWFm8Lr8Ifa5hVyu3QAu8uT90iP2wd2DzG5u158RbSA+Pih0hl+www/q9BBPm/hrVQeqJ+Mc/kJuK9ibsKRGxq7uK7BpSs8ZRauc4Sv05jv45ju4ZR7/+vHH0w+sGT2rH4En9OXj+Ww+eX3/C4In/jwbDtjeqyGYsTpFX5XXwHN+vFMlAA3pWkOPAX8oOSNgVadtiemOUDG05eTkyFo3cpRZpkxHBkBPe1gQOLWuh+w7cXccc8Dw5ciMRDj7gAEwwkKFbPqiTjBP20VLujlJxhqB9zuj6GlTef0SpX6MdeRvj396j9AQhP8TN7dfYEBWJbkdKZdyGE41l7vfCgoNzhjU3IzHvnxZZCRaHPSTb+D/soK8KpxA+bfGQOMZ38sbwTazQczyKgrQd5fv3TaXuUlDi8Zst95Gd/+pNlo6O0g3ft7gUwmBiiZfNvB/U0yRrbhlxeHz7U1gGv0XLJdu3ff1bgO8kddxV06XENV7Rgsc+3alt+tt7yBCCQsaaT9BRUL7fP7xCX7eLRXFzmaHWUfv7x6sI7HlRFsLXTBVx368i7qtU5EV/Nakj0QJ7lSTdwvcpSazgv4+SBPesJeOjh0RmmPPQJ2cbtHzau0C5vTMTxfMj9wRtt2Ch0KUqNeGEU9q5DCgpdu4gfpeiomKskXW55IqKV/Hb8WPMsWLeil+wwLdFjS/wDFcjc5GbU3MnmaDhSuQrYNHdwaf46mA8mw8uD94Bbeq8aqDN5qyujL0AgKktoQ0Y7cIPBy5O15aybrr5nLLgx/KRLiPtV9QxuuIF77mBTJJyB69AcHQUXEB6tNG0BUJAvbIgum3sCN+UbEDPBJcsL51cwG5PHHFW/ybyczFv83o+US/ymn/5EV0mfl46wanAKKZQEq9D5YHvwBXcX4sPEiCeQfcgFyiLV/7VQoqCx/iEL1JGzMkiNZdefE4y3b8EuAfrClv9y4+U4X/GFzgWK/IC2VnY3qDBO/ANtGUEnfMqdKldDPN5jxfkeXRzh7+qhNO5xNEHf2xB6+8L2C8wDA6p4aXzOXqNrZ/jlECD0OVXN6gjIe4vI/G0KJR3lXIDX8eN4MgiBVsQuVQ5sxTSYe/qo4gpymHWoGvbKLwsmyeLVWRc00I8QBrnZcS7xEFwHOX5j98zhNuTOFW932pmcSLaI4I7nTNZNo+q4+5O6M9aIv0vKS9fUh4iiiT/BvXtlx8K0j+sftnlfHsSae1LlCRd122EMoM4FAVtekY+mETgjCxSEGwdXdGOeBaxCESmovtaHs5oU0NWPD/sYd7uomjm8x++l+q/WaViVlPXTIgemc2jGinJ41wm7gy77GuUjsx+ZjV6bPx4tcZlaeoR8X7Nf7MGpx3rvSqcoZxxnrxCOz/EPWioqr13q8S2+Iu9KwL6ChVKQQtb678bKNCCfTDQ9gdrQzkk792QMdUNlfJIw1qJlDimlQlVjvb+Leb3mogMDJHB2IP5gYE+RdpxiE5aoSSM+/lg1w5AHHhpaI5s7Pbgf9ccYVtBUZzzhtFTDLMIPRbo6aojDbHS/05D6Dm9JTzkg3m3HO7dJurPgrxdxTc+UQnFT6wkREh/TbPRd0tykVucE3X5OPK//Q/1lx/bPvL87bfEBh70hYwUabsqxZ/WiPRKr7AfRSVy3tc2concYCtOmks+gLdHbHc278TZTSUADFNeRtc2slnhsdMr8hLXck9ELsEnT2/eySevcMgn/OGUXCJzN5t8gF1sCrJ3sskHSLIpTE7PsJC/WibFCbpdxfAHiO0IsY+/HtI070QUOIU5TWhv0JdM8OcqZNuMOewpXkCAImzqWDa9pG3oI6FbuwE/xFeqd29b9q+YSGKKde9IXGhH/D8pcmh72ujiBmSIZGguA904zGJKsl+9p3Da6KIozhxi+Ikm18e4tT9BShFvpMuF/sfCOxCXS51dR1d9Q1OLDvKjS22KFXymnkKX0ERXCOItYJf+MB6jP6z7NaRrGEXUcMaRhxoV3hsePS+D3Km0IXilGdgWzjQEkWyvp+eojBzcyXN0RpbfvXO86qYzg1ZlHKiKopDNumnqigAH83wOS/gwKtpEIG6koU9x/bwAn48xc+ROgOyf1AdQgTV/1NDXtY6SSPzsLQOy83MFPJ/HJ5NH2kE6jhF+x2lnB0s7Ya9iSIDY48glNFSonUFq7iRJQ2Ig/3k0IGOUpgHdh5UAelu4Lj39SCB6dbQujcn3wMKvPP3EOHSAc5eLGQLEw3ORa9adPv7wGxw4EpYOBYDQxikc60fyguNQA33zS1HHzbkCibmOHQqOLPmocFp0HbDrlx8BJn+qchSixrEXyKjfMleEghhAxOffsRMkdHGDMF2kTHyJxwcp4jlCYgIVUp0BH421Zk+RELejB7VRK7Cf6/MwgeoFZnpLOGH5QPu+blnnpSQu33qJ3ISfH6feC1TkcZDigMBZKPiePyKLFeR/UUVaXiQuifg9LSTieuLHb1PKsmWCry3o4JQ4id6zl7EX5d2oyXjgJLmrJKbnI2seND7AvU+Tt/Pbl/TYRxoWQNt5XuRnhJr4qamR+Wn75Y4ACjf5MKgMv8U+yGFqy6xSMHlbCL7EymC+ftqeng1L4YxtOfwaKxl8djJd1MvZlvXeI4WfM77Psm/ZIaIHOPR7RMRYEjVH+xYcUuEu74uZOAIXVoCWViL44WssvrUDf8R0xjkYNZ26vxr0ErJwBSGKzQ/iRNB5KVt8z4lT6WhggtiQ+4K3DBnbfS2e1lpLOMzIKP9U1xY3vmeafYwwtjsA3XYicY53fYa/Ho5T82tFlbR1UZJtOMPAtWKg2OX8O2DQ165im3uS1VDEcbQq9PpSdfHv/yxDgLo0tQxz4cUAExXtxLr7izuiYXDOAE/78EdKdMM7z59P+tAxPkRLJdoeR0glm4NKx4r/mmjEAfG3yCc1vqQuOPl9S7rZV2C+CSdvmVpuh5jwmiXSw2gLo5vQfs2U5K5O9cKCM+xjuMLIxVVRDyu2hObRt+ZNcRLR22SP8TelyJISv2jYV6sFKt5Hufnf8rqMA8r4M6a//NiheM/SEpmgRFhk7k/rU/UTXt3+rTGJEIA4wZPGw7B4ZDTKsgfR0SrR8EjcInjwKk4HHnbV+pyaRO4OWsQbuce4hRfIzSVvnTmC3rvNCSYHoPvb/CEmOUPUtfm8EfPJfuBBN6sG9DlDTMEhIcgT3lbQh1xz6IolXjVzz8k6ohNpXE9XNbU7RV7nf2QUhzjnmjiDKarMQyXaInyOH3pP83OhWQbWDMTTZAwtuPwI7TOFnItuOEWhLa9x94fE9uUhZtOCkhknoMPpqNct/a/54sCvpsqRGyQTs7hdgLsugw5PQ363E9ckhpuPwpa9plLM6N3keWvRMS/9hekm3jSLD0TvWENL1WEmvJeXq8AHPl6uAokjviCWffNkrO7dDN5zZc7BySsUIcnqSHACukYQoprMQx6TLAULZSFmTzW95EKIILvwWRAlSJT207OK4yvFtt0B9vQoHV8Jkvj732MsiwIXEsDe1CtCcXyCmOCWv/UhF7vvNgHjz44TM8fXLR3HmxU0PaE7GZO3TDIzKXhV1YVdVe9qbIwjzzsk9RBK6iyYnO8R1UMoqhA6KquzjNl8gjbcb/fLKlgv/p3Cevg9wkqblzfI6uENstoujud2HgF51fCleR5BcvR65RDzqgHmRUJwnO6lMfQ6OGrwzpE0KJ8eTtOnYhDA+wfH79tR0av0JHmj6nc7fQPsfiqyb/YIA6DxkSfXRBmy9AkFyxPa+MJ9yMnGpK47yfp53WBFxL+YlX2kKH6i6iWe7DiIlSqW/C5A9g0hr9LV9USW51m6GthHfm7CetOBLUmem/wDmmJ4ZQ+KXsqWKlTav16+JY94qDjJkOj2W9Qpp/0AfXthm+/hTnz3Zq+nH+VJGhDta0+Q608N4KiB4HqQ7vkrp+zh/XTRgjFEJ8mD0GmKvhLll1p39IUoJ/UvVuvnHeSi22xS19nEyY29FuInGLOO+u1sx2fi6MWGFF5qyNddDVHUNzXk6OWGZCxmRlG8fg6cfnjf0kt6UvkjGcnFHVPEZR+icT8UwiWOEzr8a8Lm5RMcikHH4rhesDlS2X1yuedn1pY1l93KK+O62iVvGIotf/I+4PIcWxPL2kWxT4CZAYzUhbVeoIpV5Zb/2Z6fd11t/Hah6EWjGZtfveCFDxSkZMCF4eIoqJd4Er+eKX2F3usv0Utdoxe/BC99bV4q3yPBTO4W230xXvpeJPxBCe+7Df7gj+6agFqCtkR8inxoCWqOP+omTsaGB4vesYt05xEeSuSXuV1Q29M7e8EWOOLoyTxHFpmKvNgJG/FYFRXd3nEUnzmn1hWyj5pkAyPneDTHh4FztqfSO2H3nzbK4NjOcxRJSNSqcGaeo4uV3Kviuy+Fr3e12TJRhVhISydxZOPDvrNh4SGvWCfYqx9RkF3KEYXZsQH5Q2LReYCGhdQ15iinPU/NxV+p8btaHaCNOkd+UrLtdHTvcgos8/ALgYLyqAvAqWa4nEnhfV5wJAoaG9w08CwvftuJf+/m7RR0EFw5quyjeTuLpah9cLHt76KsRi/WSVcd03cqCzA+XUoOCM9JffBGgH8flfDa+0/TCj/W809XiWDgj2vFri1LoSzTd/j7Z3x/+B8LSPhEn9JJnh+XcZ3+p6xEBP188uH5AHth5kTBLsC1ppmXmiTnD4oTzTDhbHOkGsUgABXcyAgfTz4fQ89ZWZpfPx+buiwbIhwCjnRLPZrIuvz1M9rgTuAdVl8+jrS5hL7m8V2FmD9+/Yz59PUzXlgikOfw5aM4kcUZbMPHzDLfTW08nqOix7hQHD2+7eM7LwhwFvzx69/n5omp6eKkqKpFjkcfVYBSJvxL4POlQ4KiAVRc+PeA+K///J9kkSTJEk383/+Dn2hAfPuv//zfR/CFrh1CgP+Fn54IVVM3sq59Kn0vV6qw8ZAASI7flCg5cK6vfpcdmCLJ0sd4HjrMDbVF+i4i6UMJ7s2HmWiLpp8XcP57qDOJwolPYHz8eh0Mw57UisViQHemxLA4fXlAHZ0rItbXY000ZfPIgGX4xcev4XetPJ3HiuO9Ib05CeMWI3yX/169OvHAipCGG01Tg29f+CjMpR8ZQCYx9sWPfM6UF0vkUyA8sq5DhkHvDZ0K2fqZ3qcLzm/YyyKe5eYRwqJ/eDuJz2t77iDWoSE2VCT8+AcR7wzFrA9XeORuv3qBOvQLPSVoSyDGWJM+7pHL1NCg/vz4iDYufvxEfGx5sbHw9hvo2qOIHpzMEjxepT8oEmfIuzz20tF+K++TBTga+PGQ+Bj5UAHCeHxT6dpN6ba0WXeWRhPoQou0yjel5cbhJOu2ql7db6wSw14ONle63AG1lXLMXZoleepMT9kLsOjyA64NmBthvbh8LID22eTBbgwckbHaS8lgNhfVMXexAYuWUzY0lrmajJvWWL5hpuueSFmAfXCb1kLkJd3pSOtOdWbXZ3azf0rpZkm5XgNJF/r2hcPfCG5z9qCB8+mdy51eNUx9U50c15lOdd6zG+JsNXX1VlsDdL1Z4pqTO0bf8FzfBXq1VrGcjnPeMoz7xQxo5OO5VX1wbvVluVGTwUxiLbs1YzqMIfeXC2CId12uBTb1qaM9HsvMaNJh7f5NmWGM+inpMlO6X+LOx7ekYLdXpwA4JU7lLpfr+5bbHg3roCJ0xhzLjTatzb07bAOxLOjcmT0cbjbKZW8F7ONTm7tQV5OB21OtAqMNzmbceZ2dbJzpwmBBw6yp7HGl7PY2/UqnA2ijU7MqQHenJiM+jkG72lYtWqMHujmiLLL62KAfua7T1gbuZckwmO5KueT6nesK4973ahaQ2uSca1WveGENrKkBrLZs2adm5WpgkcfnK8aZGRXubM12p5v+vKCA1bTUtLu1bmWwriz6azCZn1VZyiyPBWfZ6IpM834kcdzwSm05+uPSApWKdcMej7Urxl1RBQM8lLiZ3afAY88d35VdplZpTO1LhlpNN+etpQyGtRZrN0+VBtSXar3LXE5aE6712NoIm8mK5AE5OBfY1aJmCWZdrGtgIx0vuf55Cwyc2+GdDAZN+4HrrWa3PfdOEZrgtt8+4xpjhxqsJ9akCtZV5ZrjxqszxjwfjldAY5Qhe3xLqhvr8YwvA25et7gGS8pTbQkeSab+xp/T+mDOXWisK6yPz8c0eOjePFjgvsa2Vqf8tA+Gx1drjr1wrzab07laAJNLlrIv5tSktXY3JZbpHT/W7cv1YL0xHhuVIWje36vcxfmNrdtTpl5mBmpL4LgLnm654lS8Asel+pndZ9uljdU6Fgxgk3cK132kpoPNStdugcVdkzar9dSpU+3Um2CyNs64dqFqCM6spPXB+mI65jpnU7u31qmrKtBa1tS+sO6twYbtlbugNZSnLHX5APuHPVi1Ab9otiwGcBVhfU32hsCpT6+5c1K936ytKn1RXRW4Y2v6eMVunL4EqoCddkWuUa1yvfXSMZrMqbGR7XpjJjOu7SxZMOR4h+uuNtpmMx0KXXDx0B7a51f3jg4pbw3BReumy12edqD8BksagKozGtvsDddn3GrpuM+sHm9Iu2Vf9gfOWaPKM63pErJn2KF6a625lqsDoEL+rSbyxqie9wGgJ706d6r32albMmSLmR4zdbtz23GYTb08vABtd3hln7t3a8Gmu4Zbue43pywwRWuzFm9nY0BtaJZr3vKd3uZKq7WZzbBzw4IlqejrR7CSmVatItuXTVGdWpdd7QaUzu8q3KV21W1tpiynMPzD1Z3dFnvljVu7M3hgDPUHu3d5YetrZdBaA1d6ZOxu53igbxwW8GBZ6fBQXo45deSrwi3zqIoD7sJ4HDPrOXWpgR49m3DceW+y2ZwJOgsgUUO7J93Wp4ZbqopAuW7dc9ztDaU7a7c0q151+1P7nCroPfO0LfCg6TY1rgnuzqH9afQvAMet19z5qTodrBvtexdYhnvONdtSg7FKj7wIztazid1bXVqCW+5eGIDuG2WufSWcC+vu8pEH3PHUts+qVyTkp0kZVWal2TZ7dnbcsm4kSQay0R3COsRly+7ejsuge92as5ta82bgGg1rDXpTSH+3ObtqOfWbOgDXpc6d3SOBzGxcQ5uBzry8sagetWA2V489GZhcr8+S5GTdclqnpRvmRulL9sX9eCCsrY5ogHZp7rI1s7MeGPr9jcbczGtLuyUxhY11s2ZloBS4G/uUlZWpY67AmOnT1pSr324cYd1w1zKoKxM45Gguy6zqc+oCiIVq3W71KiqzvjEqPFMpPD5w9U2Dm26qZ2csOL4ida59zbQ2a2ZZmTHXXadgsxI50p3q4J4H81praY0La1J3uXNrxtRU2rIveLIn2Frp8YHpN3uuReklfbAiTy8NIILqpX2mcuXW2r680Ji1TKnsenHhtOyxAOXhPpau7GbNhjkXNbkMnLJdsCy6Ouw5D0tLBhpLV2z2UVCZzf3toAD45arLsae354LrVLkxMx8i+8xO5gPXsmtrRpicmVzj4o4TNtzlhVtdc1bB7uiyMNhsrvtDoNzxQ/u0SSsDk9HtNXN9KxjQHJWv9bVddhRGlrVju/54O9DdysOxyLDnD7dW4Z4dMq7Q4KrMoGKy9uUpq/fc9jFrgfnYvGU34zO1tW6b+hAs5muGa7UvL3T38uL8ClgPx6rdqHbdqdtjoH1fQFHYvWZnA+VdvtMY6VRgOe4B2g7n8lhSgFWF/ac9EIWpMzoTO9U1WFF2XVxA+9AoX9dB/YoaWrr7cLdxm273qlqdD86403FLh/6BVqgz7uD62u4Oa3C8NaedAqOeVXt2y1otBo45lG7Apduo2P3hVGR0ZtK6AezxbM21Vx3ovzDOpQXeOl7wF+Ubjj2fLjamdNW2wMM5RbK9zUSD7Z+sm0BbuDxsr3kLJT/q34LjRUnkmmfiZWvT3ywV5mZRrbI034G24+pWrIPbY7ll2XeP69Z65ZhdwDuPErSfEuyW58e0DKC14yF/6o3N5rHEVBnZZO9YSzyH/oSjyWvQHHNjyxGbU8G5mpVX1ersvsWW9AL0b+7WpyLYNHjS7q4LY92RZwMWTKUWx7EMWZq6pGFYoFaD/go3qdE9o94kO6DVckyuNW0XBGOxlhVwW6k6LL3SyJbTuHkkQePC3Fgb5Wq5ce3HuQHOLrm6XQfjDqON66U16HRsjqWO1YJu3t3fQP5cSgu7O7eZzWbJWh2gt68Ldn0FzgY2uJVWDA0Wol0vX4wHm/4E2o9F2x3Z3fHQmTqFNn8B7SX0PzrL5oVuDh4Ui+mJmwpLVc3r6UYVb7sMqZ/NrZnbORXcR0aUmUZrXLasuwtSMOBow0L9ky3WndLnA2u5FNewTy8U7vRUtzYGdSoUwGAlO9xpfUJu1go4K4DNtDDjmvJ5Y+o2pNUQ3A3vhtzZRp4I6+rtYAWqV8KjpRmPNLMBZY0Eq85G5bhywR5sTifMDVi1oIW6cO7Oe+baEUkwF9gzjoO9ZLNukbA9x73bY64+v3eZ9fXDLQvUtuDYfemi23MrDa7NlG4Zxe6wHbFnsIUHkum7TZK7dAoSs76iSitQv++02Wqnw7W0xuqcZs5EE85L7gvl6UYuj9fgCpp9rmfd95lNVRehP8O3bLszqC02m8v54gZQJPReLyrWRHAUdQoAHJjg+Ktd0YLdqD1egWHv2OBOG5cClH/tog/aq+Etux6L7YEhkw0X2i/6nmta97SwvqB7ZWYls7SlA8sRNr3ysAntfUPhuMbAbJnskm9Xx6uxy7FrHvTWd/Vbl5nx7TuOmw2qjKVc6X1wWS2dWvSsAd83dZYHN2Uw4djGxfHGKs9As2oWqo591rnpCe7tZDGrnF9sOLszazLTDXV9PgYXV+177nR+Mx648rzJgsqsP7DPFXOlu3cb7ZY5XlQG3Pn6djJY33fZJnM+N8p2W7mweps7/bLPlE8rGpyfPJQFeyo8kKBy3VtxLaZMT1fuFNpnkjuH47NsQn+87JYNUJsNbatSWpUYV70pl8EpV51a1MX8QbDFY0VjTicVy+bEuTBwb+pyl2ndta4s6EpD/6p6xpNANeA0q68t7MGS1TSFGbLDOte9Eu4Hm4XxwIPHbqfAtYZ1BvpzbaYMhOrjFexfLMRvC4wBZszFI9ccNVR9M14VROasP4bzJYeeMhurwYjManbds3tmyYIDmqjRTIG/X7Nj5daYrqXT5QWjHtNlrn4+1Frrga1roEDCznmqXHBQnubxkGmMx/f22Y1sQP/jmCHBrcDCIds+1QfOA+1q4HINFly/da0IDiSwy3QemCbX5pXy1GGX1T6wzxSaO6udDjfW0DJJpiFd97kuLdxs7OsxnE91m9Yxu3FHRm96xVTpKnXF0xx72ZB769Ww9wD6izm0R6s7amCY59CPIC3gsOv76VjYGOc1AE7pOWuRwrI3dc4qDw+gtxKHXM/VFoJ7ZhbazFRe3Ni926XO2HZjVgbtTm/GLo3FWN+wJL1i9OvFyCqMHx3GuLq8Z8Fmcn5md3rIo56TDYOpts4V+3I0GQ8cttWqg6lbKbBgVX1srSXaWrx5vOi0uqylWaNzZtNZSxoYze/WXH/chzPp+qrZBKdVu8+x7Yfm1HEa4gW4vhgOuVPqoSXYZyvWBVJj3rRKg01lummS5wUA0I6eVbtmDNxSQ2ozBaXC2ecsqUD9vbosAN1uL7jLvjllVkNuQjIdd3Nudxdlu+feX1Mk4Gf0xG7CSerUMWxIT3nOVzn2mhE3m7tH/Qo05eajzRbMJRxe+v1+VRxVa1x7VNOn5hK69oCWnSnXWZdXPWvKtNdAf+xKXHMpD1vusfVwA/2jocWd8je8PlvPhAum9dC6tVunTH/qLDqPXWCsXMBO1l2y5T6UlivmomDNuebwdjrVlME1tEdXq4pdN+1FyxrYVysAPa+x3ag4es/pXl8ZYNyUZa5dgj6tszbmNChZNyuuPrsTp07fGsDxbsxNObY5LjNWHw4/lY4l6PZpd9kZuNXaVRnU9c2aa41di1n3p7IGHs6ODZtVunc9Z/jwYICr6h2cT25mS2bNyd0mqFEXgn1587BgzIcragUm+mLBXdwsZN1qWgIN7s+aMtfkOhqz4YxaHYi9jWCzw3EV+i/r2Ro8QreFLdPshnHdwbILFo6u2Ny6WtKnj9DhB6c1smafjisb3WVsOP8VxfW1fV6ieN2RzgwRnNfh/LxNq5WWLdfOoT9kb265yzopwP56o8ugUufPrdJ0Cr0Z2mRnYAKoqd0clzr6eqhQ0F5YrMrWZDiNW/cK/SZzdnmv2x2lOmu5N3xPAY5+N+I6KkW21vLtLQ86o4uBfVlZWK313VWfBt2BUGNX2pDtmfULZ8HMXDRS9EqTgdNaC2umwDVZ7pQ9u9Q3AnW7YhqgA/2R44vR1BhMrpogDFHhb3CiCJUf1kUZie9dotz6VbvxL/0v+vOv3pY/ZfHnvz9lkfqHTFfk8l9otn585EvwF4WMHQ0fSuiBgg819EDCB7rGPMPn7YWQMO3bj4/oLhxk9iAwzMVLU/gVQhHUJ7TuhdLxVTgwnYTPsiqhCkrPT/DF3YWulEZXgqV2IEObxrZl6XRZ+rVlyXRZck9Z1IbE5V+oISg5/kEAzONgBNl+OgDhXSgqTPRW/8oV6FFCr7xKU0wF5fEOqjEry9+WDLO9/VAfw484wqRKEZRokiFJCg7PVapUlY/Iig+Dv+64C6sIKW5B1UCt+FarehfslMqwQd+oUtl7LVP4tcrAnCr6h18BfGRomOu91gAEJiEIw6B3mkTvJahOFFXBCRRKYKDGURUvAS2R0iRaLK1hFHQZXfWDaqBLHgRJo8t+8H9eJVVUvEaiciROoNCVQAyJU1ECahNVRjUBXKKEHulS+I6Q1cohOKqxihpdpTE0xFZGGCnq6Qlpf+wyHMgixvMBdu0p93Q6kPocfWaJn38MymAFQ57FR6yC+8C+xUHw/dzYMYFKt1VbY6YsvwdaWgoSomq+rw74/EIlVKoSqhqvhaLon1AP/d/RmNLvr+TpZcH9D5UgviRo8TKfn56ji7T+gix8lBT7a7jWH/u1ewPCvs0A/0G08NniT4RoSTxB+tj+PjZPsqvxKEC7APCelC8f/a2Hn9B+BPkjoUhoq4T+PVw0rpGgJAuCyAugXKYqNJDh/7IMRiWZFioi5dMH/0f4vhY92kVtgfYafY+R+0nVzHwxthHj04Q38l+9TQ/FrC0auMwnvJtDltDVyAd4PX+ONhz/lcc/JwRiNq79n7dLJCMrkwdZ4oTgc35poEy02SRLIxI4/kr4QH/8xpS91O5Wsz94H8u2uf7mFWicP30wZdXQ9Pw3+IOaRdFwAMAjIQOZgBuKxprILjQMRqJxBIOR/gNJgSywspcLBwwfG1N5gnBbwG/fMJpSAFgJqmWqcXw4F5BeLh6y8EOtnK6WKtFeLokGLExdlcmqlkIDuoeY8UuUyYxmBI2ka34zqFJGtSQVUFfxH2DBeLXFYjFNBVmr+VRUK37jqVpWqyi/MTQZMj/NI7oacLAawFNksvEYHxlQGfKcpjPwBY2nSDrQCCZDNMifwQ+B4lCVcibPq8CvlqaCZmQxswYCopgArJZRLRXURgaiAbBaVO+Hbb3fvB4bNLPik0qSGTqLfTScyzABI0vpisma31HIii8NEmTqGMn4+VhncUMA2CNdigJbfGkwQAfcLQVKA7KkS9JM0EPIgJHljGZUA6JKlbDPZEmjGnQ8v8fQZfAK1abpsEtQId0ZVJQDHpJhP8wyJ2QtME6BjKDXmmVOqgG5QZekK1QaH9YIIsojKqv70+VAxwJmQbc6s9qgI5HV0K5k9ShQC1gdMJMks5gSmFY6MGdwHpBSba+awHAEFZOVLP6hyYrXotCOZXXlUqCBldC405ldmfQbEnYtskRldRW/NpIJBpcs+0ZWyQgYRguozB4V2EuSCUwJlTFG0VTQA8iAKSSdAVYpR4y7x83qC6rtsS6QYi0Yu0pZHaxChW0OzG1G46FNCMxnYHXozJGSCoY0ulIJuiSVZSeCaunKjh7gCTYgig6tcilzsADhGFXeoWEe9eWg41E7NMLr3YEEQyYy0JzAignv3p8vf/+rQzMnyEH/RHrP6PtJK0vRZeP7WOelLwP0gd0dntTvc99JgRFGFCOVoTNU5qu1GlOiqxWqwlRLtASEytZ9//92fzV2XrHUA9eVKidd18DYb53XP3dU/7mj+t9gR3X5ouJa1E2V6TniurB414pWZsQYhYWpvUHhd0RT3VQg9SfGVwGoMeUyVaNLVQqU0IAZibBmZO6NsXr2hCxBj7gE3TyA/JVyRow1A++fUdZ/1yjrnzFDzyxWaiWSKQtCRRCrZRK6GaI0qgqULAugTEsi88c6HYQfLfxXDdu909/5VwzUhXGto+hUkgaVP9B5/t2Olfc5kK6Ev0X4Mar0AjTGkgSniOUqTQnlmlyiJIaWy/yIKVfxKPvqqHoU+EUfPgr8Yt97OvH9P03UocuX6QEGThrilQ/kgyfcso/FkJ3fUfbHVNHmXMPn8IP3oogScDVo2EUeXJCjy9CqiPJQMSf5WPEQ6Ujnx/4lv4nDzS3/9dSHQG0IoGMHZAPEKD/jfvBQuIn7wfFdQWZwgW+IGb76x6obbhciD0p/U55gBaiMoVm6KLfwlzF28PCvyHh+JApEorj/3ZkoW0JsxZGiG0HduGWwwDZ36xE/xyWRyeSXHOD/B+/nyAA=</script> <treescope-run-here><script type=\"application/octet-stream\"> const root = ( Array.from(document.getElementsByClassName( \"treescope_out_1b3fbc656904466ea84d88e6d9eae020\")) .filter((elt) => !elt.dataset['step1']) )[0]; root.dataset['step1'] = 1; root.defns.insertContent( this.parentNode.querySelector('script[type=\"application/octet-stream\"]'), true ); this.parentNode.remove(); </script></treescope-run-here> </div>"
      ],
      "text/plain": [
       "<IPython.core.display.HTML object>"
      ]
     },
     "metadata": {},
     "output_type": "display_data"
    },
    {
     "data": {
      "text/html": [
       "<treescope-run-here><script type=\"application/octet-stream\"> const root = ( Array.from(document.getElementsByClassName( \"treescope_out_1b3fbc656904466ea84d88e6d9eae020\")) .filter((elt) => !elt.dataset.stolen) )[0]; root.dataset.stolen = 1; this.parentNode.replaceChild(root, this); </script></treescope-run-here>"
      ],
      "text/plain": [
       "Conv2d(128, 3, kernel_size=(3, 3), stride=(1, 1), padding=(1, 1))"
      ]
     },
     "execution_count": 13,
     "metadata": {},
     "output_type": "execute_result"
    }
   ],
   "source": [
    "vae.decoder.conv_out"
   ]
  },
  {
   "cell_type": "code",
   "execution_count": null,
   "metadata": {},
   "outputs": [],
   "source": []
  }
 ],
 "metadata": {
  "kernelspec": {
   "display_name": "minVAE",
   "language": "python",
   "name": "python3"
  },
  "language_info": {
   "codemirror_mode": {
    "name": "ipython",
    "version": 3
   },
   "file_extension": ".py",
   "mimetype": "text/x-python",
   "name": "python",
   "nbconvert_exporter": "python",
   "pygments_lexer": "ipython3",
   "version": "3.12.8"
  }
 },
 "nbformat": 4,
 "nbformat_minor": 2
}
