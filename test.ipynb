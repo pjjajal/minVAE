{
 "cells": [
  {
   "cell_type": "code",
   "execution_count": null,
   "metadata": {},
   "outputs": [],
   "source": [
    "import torch\n",
    "import treescope\n",
    "from models.gan import DinoPatchDiscriminator\n",
    "from torchmetrics.image import (\n",
    "    StructuralSimilarityIndexMeasure,\n",
    "    PeakSignalNoiseRatio,\n",
    "    FrechetInceptionDistance,\n",
    "    LearnedPerceptualImagePatchSimilarity,\n",
    ")\n",
    "\n",
    "treescope.register_as_default()"
   ]
  },
  {
   "cell_type": "code",
   "execution_count": null,
   "metadata": {},
   "outputs": [],
   "source": [
    "model = DinoPatchDiscriminator('small')\n",
    "model(torch.randn(1, 3, 256, 256).cuda())"
   ]
  },
  {
   "cell_type": "code",
   "execution_count": null,
   "metadata": {},
   "outputs": [],
   "source": [
    "from layers.layers2d import Encoder, Decoder\n",
    "from models.vae import VAE"
   ]
  },
  {
   "cell_type": "code",
   "execution_count": null,
   "metadata": {},
   "outputs": [],
   "source": [
    "vae = VAE(\n",
    "    in_channels=3,\n",
    "    out_channels=3,\n",
    "    channels=128,\n",
    "    channels_mult=[1, 2, 4, 4],\n",
    "    num_res_blocks=2,\n",
    "    attn_resolutions=[32],\n",
    "    dropout=0.0,\n",
    "    resolution=256,\n",
    "    z_channels=4,\n",
    "    spatial_compression=4,\n",
    "    wavelet=\"db4\",\n",
    "    maxlevel=2\n",
    ")\n",
    "vae"
   ]
  },
  {
   "cell_type": "code",
   "execution_count": null,
   "metadata": {},
   "outputs": [],
   "source": [
    "vae.forward(torch.randn(1, 3, 256, 256))"
   ]
  },
  {
   "cell_type": "code",
   "execution_count": null,
   "metadata": {},
   "outputs": [],
   "source": [
    "encoder = Encoder(\n",
    "    in_channels=3,\n",
    "    channels=128,\n",
    "    channels_mult=[1, 2, 4, 4],\n",
    "    num_res_blocks=2,\n",
    "    attn_resolutions=[32],\n",
    "    resolution=256,\n",
    "    z_channels=4,\n",
    "    spatial_compression=8,\n",
    "    dropout=0.1,\n",
    ")\n",
    "\n",
    "decoder = Decoder(\n",
    "    z_channels=4,\n",
    "    channels=128,\n",
    "    channels_mult=[1, 2, 4, 4],\n",
    "    num_res_blocks=2,\n",
    "    attn_resolutions=[32],\n",
    "    resolution=256,\n",
    "    out_channels=3,\n",
    "    spatial_compression=8,\n",
    "    dropout=0.1,\n",
    ")"
   ]
  },
  {
   "cell_type": "code",
   "execution_count": null,
   "metadata": {},
   "outputs": [],
   "source": [
    "encoder"
   ]
  },
  {
   "cell_type": "code",
   "execution_count": null,
   "metadata": {},
   "outputs": [],
   "source": [
    "decoder"
   ]
  },
  {
   "cell_type": "code",
   "execution_count": null,
   "metadata": {},
   "outputs": [],
   "source": [
    "decoder.forward(torch.randn(1, 4, 8, 8)).shape"
   ]
  },
  {
   "cell_type": "code",
   "execution_count": null,
   "metadata": {},
   "outputs": [],
   "source": []
  },
  {
   "cell_type": "code",
   "execution_count": 1,
   "metadata": {},
   "outputs": [],
   "source": [
    "import torch\n",
    "import einops\n",
    "import treescope\n",
    "\n",
    "from models.vqvae import VQVAE\n",
    "from layers.quantizers import FSQuantizer\n",
    "treescope.register_as_default()\n",
    "treescope.basic_interactive_setup(autovisualize_arrays=True)\n"
   ]
  },
  {
   "cell_type": "code",
   "execution_count": 19,
   "metadata": {},
   "outputs": [
    {
     "name": "stdout",
     "output_type": "stream",
     "text": [
      "torch.Size([1, 8])\n",
      "torch.Size([1, 16])\n"
     ]
    }
   ],
   "source": [
    "a = torch.randn((1, 1, 8))\n",
    "b = torch.randn((1, 2, 8))\n",
    "\n",
    "print(einops.rearrange(a, \"... c d -> ... (c d)\").shape)\n",
    "print(einops.rearrange(b, \"... c d -> ... (c d)\").shape)"
   ]
  },
  {
   "cell_type": "code",
   "execution_count": 20,
   "metadata": {},
   "outputs": [],
   "source": [
    "quantizer = FSQuantizer(levels=[7, 5, 5, 5], input_dim=256, num_codebooks=1)"
   ]
  },
  {
   "cell_type": "code",
   "execution_count": 21,
   "metadata": {},
   "outputs": [],
   "source": [
    "codes, indices = quantizer(torch.randn(1, 256, 8, 8))"
   ]
  },
  {
   "cell_type": "code",
   "execution_count": 5,
   "metadata": {},
   "outputs": [
    {
     "ename": "ValueError",
     "evalue": "not enough values to unpack (expected 2, got 1)",
     "output_type": "error",
     "traceback": [
      "\u001b[0;31m---------------------------------------------------------------------------\u001b[0m",
      "\u001b[0;31mValueError\u001b[0m                                Traceback (most recent call last)",
      "Cell \u001b[0;32mIn[5], line 1\u001b[0m\n\u001b[0;32m----> 1\u001b[0m proj_codes, codes \u001b[38;5;241m=\u001b[39m quantizer\u001b[38;5;241m.\u001b[39mindices_to_codes(indices)\n",
      "\u001b[0;31mValueError\u001b[0m: not enough values to unpack (expected 2, got 1)"
     ]
    }
   ],
   "source": [
    "proj_codes, codes = quantizer.indices_to_codes(indices)"
   ]
  },
  {
   "cell_type": "code",
   "execution_count": null,
   "metadata": {},
   "outputs": [],
   "source": [
    "vq = VQVAE(\n",
    "    in_channels=3,\n",
    "    out_channels=3,\n",
    "    channels=128,\n",
    "    channels_mult=[1, 2, 4, 4],\n",
    "    num_res_blocks=2,\n",
    "    attn_resolutions=[32],\n",
    "    dropout=0.0,\n",
    "    resolution=256,\n",
    "    z_channels=256,\n",
    "    spatial_compression=4,\n",
    "    wavelet=\"db4\",\n",
    "    maxlevel=2,\n",
    "    quantization=\"fsq\",\n",
    "    levels=[8, 5, 5, 5],\n",
    "    embedding_dim=4,\n",
    "    num_codebooks=1,\n",
    ")"
   ]
  },
  {
   "cell_type": "code",
   "execution_count": null,
   "metadata": {},
   "outputs": [],
   "source": [
    "vq"
   ]
  },
  {
   "cell_type": "code",
   "execution_count": null,
   "metadata": {},
   "outputs": [],
   "source": [
    "vq(torch.randn(1, 3, 256, 256))"
   ]
  },
  {
   "cell_type": "code",
   "execution_count": 26,
   "metadata": {},
   "outputs": [],
   "source": [
    "import torch\n",
    "from layers.quantizers import FSQuantizer, round_ste, round_rot\n",
    "from einops import rearrange, einsum"
   ]
  },
  {
   "cell_type": "code",
   "execution_count": 27,
   "metadata": {},
   "outputs": [],
   "source": [
    "quantizer = FSQuantizer(levels=[7, 5, 5, 5], input_dim=4, num_codebooks=1)"
   ]
  },
  {
   "cell_type": "code",
   "execution_count": 28,
   "metadata": {},
   "outputs": [],
   "source": [
    "x = torch.randn(1, 8, 1, 4)\n",
    "codes = quantizer.quantize(x)\n",
    "indices = quantizer.codes_to_indices(codes)"
   ]
  },
  {
   "cell_type": "code",
   "execution_count": 29,
   "metadata": {},
   "outputs": [
    {
     "data": {
      "text/html": [
       "<script> (()=>{ if (customElements.get('treescope-container') === undefined) { class TreescopeContainer extends HTMLElement { constructor() { super(); this.attachShadow({mode: \"open\"}); this.defns = {}; this.state = {}; } } customElements.define(\"treescope-container\", TreescopeContainer); } if (customElements.get('treescope-run-here') === undefined) { class RunHere extends HTMLElement { constructor() { super() } connectedCallback() { const run = child => { const fn = new Function(child.textContent); child.textContent = \"\"; fn.call(this); this.remove(); }; const child = this.querySelector(\"script\"); if (child) { run(child); } else { new MutationObserver(()=>{ run(this.querySelector(\"script\")); }).observe(this, {childList: true}); } } } customElements.define(\"treescope-run-here\", RunHere); } })(); </script> <treescope-container class=\"treescope_out_4dd63ce72e4a4255947aaed7149482a1\" ></treescope-container> <treescope-run-here><script type=\"application/octet-stream\"> const root = ( Array.from(document.getElementsByClassName( \"treescope_out_4dd63ce72e4a4255947aaed7149482a1\")) .filter((elt) => !elt.dataset.setup) )[0]; root.dataset.setup = 1; const msg = document.createElement(\"span\"); msg.style = \"color: #cccccc; font-family: monospace;\"; msg.textContent = \"(Loading...)\"; root.state.loadingMsg = msg; root.shadowRoot.appendChild(msg); root.state.chain = new Promise((resolve, reject) => { const observer = new IntersectionObserver((entries) => { for (const entry of entries) { if (entry.isIntersecting) { resolve(); observer.disconnect(); return; } } }, {rootMargin: \"1000px\"}); window.setTimeout(() => { observer.observe(root); }, 0); }); root.state.deferring = false; const _insertNode = (node) => { for (let oldScript of node.querySelectorAll(\"script\")) { let newScript = document.createElement(\"script\"); newScript.type = oldScript.type; newScript.textContent = oldScript.textContent; oldScript.parentNode.replaceChild(newScript, oldScript); } if (root.state.loadingMsg) { root.state.loadingMsg.remove(); root.state.loadingMsg = null; } root.shadowRoot.appendChild(node); }; root.defns.insertContent = ((contentNode, compressed) => { if (compressed) { root.state.deferring = true; } if (root.state.deferring) { root.state.chain = (async () => { await root.state.chain; if (compressed) { const encoded = contentNode.textContent; const blob = new Blob([ Uint8Array.from(atob(encoded), (m) => m.codePointAt(0)) ]); const reader = blob.stream().pipeThrough( new DecompressionStream(\"deflate\") ).pipeThrough( new TextDecoderStream(\"utf-8\") ).getReader(); const parts = []; while (true) { const step = await reader.read(); if (step.done) { break; } parts.push(step.value); } const tpl = document.createElement('template'); tpl.innerHTML = parts.join(\"\"); _insertNode(tpl.content); } else { _insertNode(contentNode.content); } })(); } else { _insertNode(contentNode.content); } }); </script></treescope-run-here><div style=\"display:none\"> <script type=\"application/octet-stream\" >eNrVVktv4zYQ/iuEFthIxUrx2nF2LdsC9lL0UOyhLdpDWxgUObKI0KRK0nlskf/eISXHkS27WTRoUefgeDgz3zdPcmHdg4QicwbAMt3AymjtyJ+k0VY4oVVODEjqxC3MSaWVSyu6EfIhJxuttG0oQ/ldLRyk4UdOGoMSKaxLg+vUPTQoVVqhuKTsZm30VvGUaalN3prOSferlKiA/gR3dU4q4VBNOVBuThrKuVDrVELlcjJmtQdRkNYg1jVK3mdT70Y5KpDzk1n3T3orrCiFFA6Z063TT7qpUM4IZQVLrfgC7WlH93Fx2aZn8ZSe1GwVYhqUWWZE44iPb3lBm0YKRn3GLjVz4KM3QDcXRRwnywITinjWEQ6VsmRJXC1stgb3A2b7s+YQJ1mtrcvCOYYGjqwaUD7kT8x79Ua//j508h1VXAIeq62U8xYhQ5o/aq1QGt9pc5OQ5xz0LyjyRz2xE8wLGzCVNhuqGGRK38VJqC8CxEcnJG2NFmQyTtCPqEh8wDqToNauJsslGXmVs9QNuK1RmHcC0sKeWL1Vntmha1uLynl+QcH/84h/JxBi7CrF9V1m4I8tWPdJiU0o17eGbiBuc5J4H/MjoGZr6zaN84EYdxDLNowzUb6cg2fRFtLp9Vq2U7kKk4Pd2nhfXgLSvSNwiw3eVdKzC7+zG3jwSY9M5Al1yhmT1NrvcTg7v3H05HO1wTaMduCPCeYT2z/0eLG4HBoALm5JcLiM+usjIo6WGCncL6NRhKNr3LGKVkgRk6Hw6NwwDGcg9ja72CMcxnaNhT2yYnqzQXlooLBX3tDw8bEdqNBcaRfntb4Fkwzoew5gDPBVg7sJai05mOeOP/i/bjUGEjkRjuIu8MYVqtMSySuM6sRSRUo9tVUbL2pzYRH0Ybc8DxVJQSQtQeZ5CTiX8IwVC5/5IF67QNP3foN2i3Y032MJFdZqKbXfxCcxQ8KOkTk1NxboGmutjq1Drg9ENbVxEXwWg3lo68NqYDfAk4R8k+w5eNNho51+j2G4CXJy8dt4WrKL/5Je3+gkyet/gaSvowfeGusL2Gi8D8EM4Ar7erBhFAJQGibYnurx10Hdh+fg3h2jZMKuKmGsW2m18u0/MFrnRikbT/00DZaK/GP6bcUPKfqoNtSs8QXT0ggD/Zjd1aBwu0lJGwv877fIVxM6g9DujoARlOC+wavvpM5r8BiC6AJtFfZ35lAq+pdS1r8MyRkPh6Gq3vU8rPgSsJN+Dl+k+NpWu9u3TzPqDgVfRk+31zUrx5NxWfEZH13BiH+8+lBNp2wynlZ8XE0mUd9jf+kf9h4qt4VaCNVsuydwFEpT6vto0ElXRTxsK4hvimCM352v5/hDt25UOG1Ynf0ECmeZVFJTNxnHH9+RqwTTgtbF8NdRqnpJHkzXjE/Z7JpOKjaiVyUrZ+VoNJtV13TG2LSCq/9Fut5KNz+dsrdrN/+6tO1mLXpJ93WHvddWVBDyhvws7BYfSF/Cy5fUgnPA7Cuyb3s/Dyeo4Zuz+Av3/j3D</script> <treescope-run-here><script type=\"application/octet-stream\"> const root = ( Array.from(document.getElementsByClassName( \"treescope_out_4dd63ce72e4a4255947aaed7149482a1\")) .filter((elt) => !elt.dataset['step0']) )[0]; root.dataset['step0'] = 1; root.defns.insertContent( this.parentNode.querySelector('script[type=\"application/octet-stream\"]'), true ); this.parentNode.remove(); </script></treescope-run-here> </div>"
      ],
      "text/plain": [
       "<IPython.core.display.HTML object>"
      ]
     },
     "metadata": {},
     "output_type": "display_data"
    },
    {
     "data": {
      "text/html": [
       "<div style=\"display:none\"> <script type=\"application/octet-stream\" >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</script> <treescope-run-here><script type=\"application/octet-stream\"> const root = ( Array.from(document.getElementsByClassName( \"treescope_out_4dd63ce72e4a4255947aaed7149482a1\")) .filter((elt) => !elt.dataset['step1']) )[0]; root.dataset['step1'] = 1; root.defns.insertContent( this.parentNode.querySelector('script[type=\"application/octet-stream\"]'), true ); this.parentNode.remove(); </script></treescope-run-here> </div>"
      ],
      "text/plain": [
       "<IPython.core.display.HTML object>"
      ]
     },
     "metadata": {},
     "output_type": "display_data"
    },
    {
     "data": {
      "text/html": [
       "<treescope-run-here><script type=\"application/octet-stream\"> const root = ( Array.from(document.getElementsByClassName( \"treescope_out_4dd63ce72e4a4255947aaed7149482a1\")) .filter((elt) => !elt.dataset.stolen) )[0]; root.dataset.stolen = 1; this.parentNode.replaceChild(root, this); </script></treescope-run-here>"
      ],
      "text/plain": [
       "tensor([[ 0.0000,  0.5000,  0.0000,  1.0000],\n",
       "        [ 0.0000, -0.5000, -1.0000, -0.5000],\n",
       "        [-0.6667,  0.5000, -0.5000, -1.0000],\n",
       "        [ 0.6667,  1.0000, -0.5000, -0.5000],\n",
       "        [ 1.0000,  0.0000,  0.5000, -0.5000],\n",
       "        [-1.0000,  1.0000,  0.5000,  0.5000],\n",
       "        [ 0.3333, -0.5000,  0.5000,  0.5000],\n",
       "        [-0.3333,  0.0000, -0.5000,  0.5000]])"
      ]
     },
     "execution_count": 29,
     "metadata": {},
     "output_type": "execute_result"
    }
   ],
   "source": [
    "codes.squeeze()"
   ]
  },
  {
   "cell_type": "code",
   "execution_count": 30,
   "metadata": {},
   "outputs": [],
   "source": [
    "a = indices.squeeze()"
   ]
  },
  {
   "cell_type": "code",
   "execution_count": 31,
   "metadata": {},
   "outputs": [],
   "source": [
    "quantizer.rotate = True\n",
    "codes = quantizer.quantize(x)\n",
    "indices = quantizer.codes_to_indices(codes)"
   ]
  },
  {
   "cell_type": "code",
   "execution_count": 32,
   "metadata": {},
   "outputs": [
    {
     "data": {
      "text/html": [
       "<script> (()=>{ if (customElements.get('treescope-container') === undefined) { class TreescopeContainer extends HTMLElement { constructor() { super(); this.attachShadow({mode: \"open\"}); this.defns = {}; this.state = {}; } } customElements.define(\"treescope-container\", TreescopeContainer); } if (customElements.get('treescope-run-here') === undefined) { class RunHere extends HTMLElement { constructor() { super() } connectedCallback() { const run = child => { const fn = new Function(child.textContent); child.textContent = \"\"; fn.call(this); this.remove(); }; const child = this.querySelector(\"script\"); if (child) { run(child); } else { new MutationObserver(()=>{ run(this.querySelector(\"script\")); }).observe(this, {childList: true}); } } } customElements.define(\"treescope-run-here\", RunHere); } })(); </script> <treescope-container class=\"treescope_out_3e98f223f48045ccbec4afdacbb0a03c\" ></treescope-container> <treescope-run-here><script type=\"application/octet-stream\"> const root = ( Array.from(document.getElementsByClassName( \"treescope_out_3e98f223f48045ccbec4afdacbb0a03c\")) .filter((elt) => !elt.dataset.setup) )[0]; root.dataset.setup = 1; const msg = document.createElement(\"span\"); msg.style = \"color: #cccccc; font-family: monospace;\"; msg.textContent = \"(Loading...)\"; root.state.loadingMsg = msg; root.shadowRoot.appendChild(msg); root.state.chain = new Promise((resolve, reject) => { const observer = new IntersectionObserver((entries) => { for (const entry of entries) { if (entry.isIntersecting) { resolve(); observer.disconnect(); return; } } }, {rootMargin: \"1000px\"}); window.setTimeout(() => { observer.observe(root); }, 0); }); root.state.deferring = false; const _insertNode = (node) => { for (let oldScript of node.querySelectorAll(\"script\")) { let newScript = document.createElement(\"script\"); newScript.type = oldScript.type; newScript.textContent = oldScript.textContent; oldScript.parentNode.replaceChild(newScript, oldScript); } if (root.state.loadingMsg) { root.state.loadingMsg.remove(); root.state.loadingMsg = null; } root.shadowRoot.appendChild(node); }; root.defns.insertContent = ((contentNode, compressed) => { if (compressed) { root.state.deferring = true; } if (root.state.deferring) { root.state.chain = (async () => { await root.state.chain; if (compressed) { const encoded = contentNode.textContent; const blob = new Blob([ Uint8Array.from(atob(encoded), (m) => m.codePointAt(0)) ]); const reader = blob.stream().pipeThrough( new DecompressionStream(\"deflate\") ).pipeThrough( new TextDecoderStream(\"utf-8\") ).getReader(); const parts = []; while (true) { const step = await reader.read(); if (step.done) { break; } parts.push(step.value); } const tpl = document.createElement('template'); tpl.innerHTML = parts.join(\"\"); _insertNode(tpl.content); } else { _insertNode(contentNode.content); } })(); } else { _insertNode(contentNode.content); } }); </script></treescope-run-here><div style=\"display:none\"> <script type=\"application/octet-stream\" >eNrVVktv4zYQ/iuEFthIxUqxHdubyLaAvRQ9FHtoi/bQFgYljiwiNKmSVB5b5L93SMlxZMtuFg1a1Dk4Hs7M982TXBr7KCBLrAYwhaphrZWy5E9SK8MtVzIlGgS1/A4WpFTSxiXdcvGYkq2SytS0QPl9xS3E/kdKao0SwY2NvevYPtYolUqiOKfF7UarRrK4UELptDVdkO5XLlAB/XFmq5SU3KKatCDtgtSUMS43sYDSpmRSVA5EQlwB31QoGScz50ZaypHzs1n3T3zHDc+54BaZ08aqZ92YS6u5NLyIDf8C7WlH92l52aZn+ZyeWDcSMTXKTKF5bYmLb3VB61rwgrqMXarCgoteA91eZGEYrTJMKOIZSxiU0pAVsRU3yQbsD5jtz4pBGCWVMjbx5xgaWLKuQbqQPxXOqzP69fehk++oZALwWDZCLFqEBGn+qJREaXiv9G1EXnJQv6DIHfXElhdOWIMuld5SWUAi1X0Y+foiQHh0QuLWaEmuJhH64SUJD1gnAuTGVmS1IiOncpa6BttoiXknIAzsiVWNdMwOXZuKl9bx8wrunyf8O4EQYldJpu4TDX80YOwnybe+XN9quoWwzUnkfCyOgOrGVG0aFwMx7iBWbRhnonw9B8eiLaRVm41op3LtJwe7tXa+nASE/UDgDhu8q6Rj538nt/Dokh7owBHqlJNCUGO+x+Hs/IbBs8/1Ftsw2IE/RZhPbH/f49nycmgAGL8j3uEq6K+PgFiaY6TwsApGAY6utscqSiJFTIbEo3PDMJyB0NnsYg9wGNs15vfIulDbLcp9A/m98o76j4vtQIWmUtkwrdQd6GhA33EArYGta9xNUCnBQL90/NH9davRk0gJtxR3gTMuUZ3mSF5iVCeWKlLqqa3beFGbcYOgj7vleahIMiJoDiJNc8C5hBesCv9ZDOK1CzQeuw3aLdrRYo/FpV+ruVBuE5/E9Ak7RmZU3xqgG6y1PLb2uT4QVdSEmfeZDeahrU9RQXELLIrIN9GegzMdNtrp9xj6myAlF79NZnlx8V/S6xudJDn/F0i6OjrgRhtXwFrhfQh6AJebt4P1o+CBYj/B5lSPvw3qPjwLD/YYJeFmXXJt7FrJtWv/gdE6N0rJZOamabBU5B/Tbyt+SNFFtaV6gy+YloYf6KfkvgKJ200IWhtgf79FvprQGYR2d3gMrwQPNV59J3XegscQRBdoq7C/M4dS0b+Ukv5lSM54OAxV9q7nYcXXgJ30c/gixde23N2+fZpBd8jZKni+vWBEYV6OaXED4+l0dnVT5tMRu77J4Xo2n89Y0PfYX/qHvYfKbaGWXNZN9wQOfGly9RAMOumqiIdtBfFN4Y3xu/P1En/o1g0yq3RRJT+BxFkmpVDUXk3C6w9kGmFa0Dob/jpKVS/Jg+kawaTM2ZjNP46KaTGa5pPpzXzExjf5dQkwmf4v0vVe2MXplL3f2MXXpW03a8Fruq877L22goyQd+Rnbhp8IH3xL19SccYAsy/Jvu3dPJyghm/O7C8ndz0v</script> <treescope-run-here><script type=\"application/octet-stream\"> const root = ( Array.from(document.getElementsByClassName( \"treescope_out_3e98f223f48045ccbec4afdacbb0a03c\")) .filter((elt) => !elt.dataset['step0']) )[0]; root.dataset['step0'] = 1; root.defns.insertContent( this.parentNode.querySelector('script[type=\"application/octet-stream\"]'), true ); this.parentNode.remove(); </script></treescope-run-here> </div>"
      ],
      "text/plain": [
       "<IPython.core.display.HTML object>"
      ]
     },
     "metadata": {},
     "output_type": "display_data"
    },
    {
     "data": {
      "text/html": [
       "<div style=\"display:none\"> <script type=\"application/octet-stream\" >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</script> <treescope-run-here><script type=\"application/octet-stream\"> const root = ( Array.from(document.getElementsByClassName( \"treescope_out_3e98f223f48045ccbec4afdacbb0a03c\")) .filter((elt) => !elt.dataset['step1']) )[0]; root.dataset['step1'] = 1; root.defns.insertContent( this.parentNode.querySelector('script[type=\"application/octet-stream\"]'), true ); this.parentNode.remove(); </script></treescope-run-here> </div>"
      ],
      "text/plain": [
       "<IPython.core.display.HTML object>"
      ]
     },
     "metadata": {},
     "output_type": "display_data"
    },
    {
     "data": {
      "text/html": [
       "<treescope-run-here><script type=\"application/octet-stream\"> const root = ( Array.from(document.getElementsByClassName( \"treescope_out_3e98f223f48045ccbec4afdacbb0a03c\")) .filter((elt) => !elt.dataset.stolen) )[0]; root.dataset.stolen = 1; this.parentNode.replaceChild(root, this); </script></treescope-run-here>"
      ],
      "text/plain": [
       "tensor([[ 0.0000,  0.5000,  0.0000,  1.0000],\n",
       "        [ 0.0000, -0.5000, -1.0000, -0.5000],\n",
       "        [-0.6667,  0.5000, -0.5000, -1.0000],\n",
       "        [ 0.6667,  1.0000, -0.5000, -0.5000],\n",
       "        [ 1.0000,  0.0000,  0.5000, -0.5000],\n",
       "        [-1.0000,  1.0000,  0.5000,  0.5000],\n",
       "        [ 0.3333, -0.5000,  0.5000,  0.5000],\n",
       "        [-0.3333,  0.0000, -0.5000,  0.5000]])"
      ]
     },
     "execution_count": 32,
     "metadata": {},
     "output_type": "execute_result"
    }
   ],
   "source": [
    "codes.squeeze()"
   ]
  },
  {
   "cell_type": "code",
   "execution_count": 33,
   "metadata": {},
   "outputs": [],
   "source": [
    "b = indices.squeeze()"
   ]
  },
  {
   "cell_type": "code",
   "execution_count": 34,
   "metadata": {},
   "outputs": [
    {
     "data": {
      "text/html": [
       "<script> (()=>{ if (customElements.get('treescope-container') === undefined) { class TreescopeContainer extends HTMLElement { constructor() { super(); this.attachShadow({mode: \"open\"}); this.defns = {}; this.state = {}; } } customElements.define(\"treescope-container\", TreescopeContainer); } if (customElements.get('treescope-run-here') === undefined) { class RunHere extends HTMLElement { constructor() { super() } connectedCallback() { const run = child => { const fn = new Function(child.textContent); child.textContent = \"\"; fn.call(this); this.remove(); }; const child = this.querySelector(\"script\"); if (child) { run(child); } else { new MutationObserver(()=>{ run(this.querySelector(\"script\")); }).observe(this, {childList: true}); } } } customElements.define(\"treescope-run-here\", RunHere); } })(); </script> <treescope-container class=\"treescope_out_62e675900cf04b52a250e67b65de187d\" ></treescope-container> <treescope-run-here><script type=\"application/octet-stream\"> const root = ( Array.from(document.getElementsByClassName( \"treescope_out_62e675900cf04b52a250e67b65de187d\")) .filter((elt) => !elt.dataset.setup) )[0]; root.dataset.setup = 1; const msg = document.createElement(\"span\"); msg.style = \"color: #cccccc; font-family: monospace;\"; msg.textContent = \"(Loading...)\"; root.state.loadingMsg = msg; root.shadowRoot.appendChild(msg); root.state.chain = new Promise((resolve, reject) => { const observer = new IntersectionObserver((entries) => { for (const entry of entries) { if (entry.isIntersecting) { resolve(); observer.disconnect(); return; } } }, {rootMargin: \"1000px\"}); window.setTimeout(() => { observer.observe(root); }, 0); }); root.state.deferring = false; const _insertNode = (node) => { for (let oldScript of node.querySelectorAll(\"script\")) { let newScript = document.createElement(\"script\"); newScript.type = oldScript.type; newScript.textContent = oldScript.textContent; oldScript.parentNode.replaceChild(newScript, oldScript); } if (root.state.loadingMsg) { root.state.loadingMsg.remove(); root.state.loadingMsg = null; } root.shadowRoot.appendChild(node); }; root.defns.insertContent = ((contentNode, compressed) => { if (compressed) { root.state.deferring = true; } if (root.state.deferring) { root.state.chain = (async () => { await root.state.chain; if (compressed) { const encoded = contentNode.textContent; const blob = new Blob([ Uint8Array.from(atob(encoded), (m) => m.codePointAt(0)) ]); const reader = blob.stream().pipeThrough( new DecompressionStream(\"deflate\") ).pipeThrough( new TextDecoderStream(\"utf-8\") ).getReader(); const parts = []; while (true) { const step = await reader.read(); if (step.done) { break; } parts.push(step.value); } const tpl = document.createElement('template'); tpl.innerHTML = parts.join(\"\"); _insertNode(tpl.content); } else { _insertNode(contentNode.content); } })(); } else { _insertNode(contentNode.content); } }); </script></treescope-run-here><div style=\"display:none\"> <script type=\"application/octet-stream\" >eNrVVk1v4zYQ/SuEFthIi5USfyaRbQF7KXoo9tAu2kNbGJQ4tojQpEpSSbxF/nuHlBxHtuxm0aBFnYPj4XDemzecIefGbgVkidUAplAVLLVSlvxJKmW45UqmRIOglt/DjKyUtPGKbrjYpmSjpDIVLdD+UHILsf+RkkqjRXBjYx86ttsKrVJJNOe0uFtrVUsWF0oonTZbZ6T9lQt0wHic2TIlK27RTVqQdkYqyhiX61jAyqZkWJQOREJcAl+XaBkkExdGWsqR8/O29p/4nhuec8EtMqe1Vc++MZdWc2l4ERv+FZrVlu7T/LKRZ/4sT6xriZgababQvLLE5be4oFUleEGdYpeqsOCy10A3F1kYRosMBUU8YwmDlTRkQWzJTbIG+yOq/VkxCKOkVMYmfh1TA0uWFUiX8qfCRXWbfv29b+V7KpkAXJa1ELMGIUGaPykl0Ro+KH0XkZcc1C9ocksds+WFM1agV0pvqCwgkeohjHx9ESA8WiFxs2lORsMI4/AVCQ9YJwLk2pZksSBXzuUsdQ221hJ1JyAM7ImVtXTMDkObkq+s4+cd3D9P+HcCIcRTJZl6SDT8UYOxnyTf+HJ9p+kGwkaTyMWYHQFVtSkbGWc9Oe4gFk0aZ7J8PQfHoimkVeu1aLpy6TsHT2vlYjkLCPuRwD0e8LaSjp3/ndzB1oke6MARap2TQlBjfsDmbOOGwXPM5QaPYbADf4pQTzz+/oxn88u+BmD8nviAi6A7PgJiaY6ZwuMiuAqwdbU9dlESKaIYEpfONUO/AqHbs8s9wGZsxpifI8tCbTZo9wfIz5V31H9cbgcuNJXKhmmp7kFHPf6OA2gNbFnhbIJSCQb6ZeBr99eORk8iJdxSnAVu8wrdaY7kJWZ1YqgipY7bsskXvRk3CLrdDc9DR5IRQXMQaZoD9iW8YFX4z6wXrxmg8cBN0HbQXs32WFz6sZoL5SbxSUwv2DEyo/rOAF1jreXxbq/1gamkJsx8zKxXh6Y+RQnFHbAoIh+iPQe3tX/Tzr/D0N8EKbn4bTjJi4v/kl5300mS03+BpKujA661cQWsFN6HoHtwuXk7WN8KHij2HWxOnfG3Qd2nZ+HRHqMk3CxXXBu7VHLpjn9Pa51rpWQ4cd3UWyryj+k3FT+k6LLaUL3GF0xDwzf0U/JQgsTpJgStDLC/nyLfTOgMQjM7PIZ3gscKr76TPm/Bow+iTbRx2N+ZfVJ0L6WkexmSMxEOU5Wd67nf8TVgJ+McvkjxtS13t2+XZtAucrYInm8vOhrdTK+vR9eUFePx1SifDgdXN2x6A4yN6XQQdCN2h/7h2UPnplBzLqu6fQIHvjS5egx6g7RVxMWmgvim8Jvxu431Er/v1g0yq3RRJl9AYi+jsHY0DG8+RigJ7sz6v45k6gjcK9VkeDuGwc2AjabjMbsd37LJBG5HA6BsCAN2/b+Q6r2ws3653q/t7Nsk2/VY8JpT1y52XllBRsg78jM3NT6MvvoXLyk5Y4DKS7I/7q4PTlDDt2b2F4yVOdg=</script> <treescope-run-here><script type=\"application/octet-stream\"> const root = ( Array.from(document.getElementsByClassName( \"treescope_out_62e675900cf04b52a250e67b65de187d\")) .filter((elt) => !elt.dataset['step0']) )[0]; root.dataset['step0'] = 1; root.defns.insertContent( this.parentNode.querySelector('script[type=\"application/octet-stream\"]'), true ); this.parentNode.remove(); </script></treescope-run-here> </div>"
      ],
      "text/plain": [
       "<IPython.core.display.HTML object>"
      ]
     },
     "metadata": {},
     "output_type": "display_data"
    },
    {
     "data": {
      "text/html": [
       "<div style=\"display:none\"> <script type=\"application/octet-stream\" >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</script> <treescope-run-here><script type=\"application/octet-stream\"> const root = ( Array.from(document.getElementsByClassName( \"treescope_out_62e675900cf04b52a250e67b65de187d\")) .filter((elt) => !elt.dataset['step1']) )[0]; root.dataset['step1'] = 1; root.defns.insertContent( this.parentNode.querySelector('script[type=\"application/octet-stream\"]'), true ); this.parentNode.remove(); </script></treescope-run-here> </div>"
      ],
      "text/plain": [
       "<IPython.core.display.HTML object>"
      ]
     },
     "metadata": {},
     "output_type": "display_data"
    },
    {
     "data": {
      "text/html": [
       "<treescope-run-here><script type=\"application/octet-stream\"> const root = ( Array.from(document.getElementsByClassName( \"treescope_out_62e675900cf04b52a250e67b65de187d\")) .filter((elt) => !elt.dataset.stolen) )[0]; root.dataset.stolen = 1; this.parentNode.replaceChild(root, this); </script></treescope-run-here>"
      ],
      "text/plain": [
       "tensor([794, 185,  57, 243, 300, 658, 641, 576], dtype=torch.int32)"
      ]
     },
     "execution_count": 34,
     "metadata": {},
     "output_type": "execute_result"
    }
   ],
   "source": [
    "a"
   ]
  },
  {
   "cell_type": "code",
   "execution_count": 35,
   "metadata": {},
   "outputs": [
    {
     "data": {
      "text/html": [
       "<script> (()=>{ if (customElements.get('treescope-container') === undefined) { class TreescopeContainer extends HTMLElement { constructor() { super(); this.attachShadow({mode: \"open\"}); this.defns = {}; this.state = {}; } } customElements.define(\"treescope-container\", TreescopeContainer); } if (customElements.get('treescope-run-here') === undefined) { class RunHere extends HTMLElement { constructor() { super() } connectedCallback() { const run = child => { const fn = new Function(child.textContent); child.textContent = \"\"; fn.call(this); this.remove(); }; const child = this.querySelector(\"script\"); if (child) { run(child); } else { new MutationObserver(()=>{ run(this.querySelector(\"script\")); }).observe(this, {childList: true}); } } } customElements.define(\"treescope-run-here\", RunHere); } })(); </script> <treescope-container class=\"treescope_out_9fbb8b287ef949979e70bea42d58f498\" ></treescope-container> <treescope-run-here><script type=\"application/octet-stream\"> const root = ( Array.from(document.getElementsByClassName( \"treescope_out_9fbb8b287ef949979e70bea42d58f498\")) .filter((elt) => !elt.dataset.setup) )[0]; root.dataset.setup = 1; const msg = document.createElement(\"span\"); msg.style = \"color: #cccccc; font-family: monospace;\"; msg.textContent = \"(Loading...)\"; root.state.loadingMsg = msg; root.shadowRoot.appendChild(msg); root.state.chain = new Promise((resolve, reject) => { const observer = new IntersectionObserver((entries) => { for (const entry of entries) { if (entry.isIntersecting) { resolve(); observer.disconnect(); return; } } }, {rootMargin: \"1000px\"}); window.setTimeout(() => { observer.observe(root); }, 0); }); root.state.deferring = false; const _insertNode = (node) => { for (let oldScript of node.querySelectorAll(\"script\")) { let newScript = document.createElement(\"script\"); newScript.type = oldScript.type; newScript.textContent = oldScript.textContent; oldScript.parentNode.replaceChild(newScript, oldScript); } if (root.state.loadingMsg) { root.state.loadingMsg.remove(); root.state.loadingMsg = null; } root.shadowRoot.appendChild(node); }; root.defns.insertContent = ((contentNode, compressed) => { if (compressed) { root.state.deferring = true; } if (root.state.deferring) { root.state.chain = (async () => { await root.state.chain; if (compressed) { const encoded = contentNode.textContent; const blob = new Blob([ Uint8Array.from(atob(encoded), (m) => m.codePointAt(0)) ]); const reader = blob.stream().pipeThrough( new DecompressionStream(\"deflate\") ).pipeThrough( new TextDecoderStream(\"utf-8\") ).getReader(); const parts = []; while (true) { const step = await reader.read(); if (step.done) { break; } parts.push(step.value); } const tpl = document.createElement('template'); tpl.innerHTML = parts.join(\"\"); _insertNode(tpl.content); } else { _insertNode(contentNode.content); } })(); } else { _insertNode(contentNode.content); } }); </script></treescope-run-here><div style=\"display:none\"> <script type=\"application/octet-stream\" >eNrVVk1v4zYQ/SuEFthIxUqbKE7iyraAvRQ9FD20RXtoC4MiRxYRmlRJOh9b5L93SMlxZMtuFg1a1Dk4Hg7nvXnDGXJu3aOEMnMGwDLdwtJo7cifpNVWOKFVQQxI6sQdzEitlUtruhbysSBrrbRtKUP7fSMcpOFHQVqDFimsS0Po1D22aFVaobmi7HZl9EbxlGmpTdFtnZH+VyXRAeMJ7pqC1MKhm3Kg3Iy0lHOhVqmE2hUkZ40HUZA2IFYNWi6yKx9GOSqQ8/O2/p/0TlhRCSkcMqcbp599U6GcEcoKllrxGbrVnu7T/GMnz/xZntRsFGIatFlmROuIz29xRttWCka9Yh81c+CzN0DXZ2UcJ4sSBUU86wiHWlmyIK4RNluB+wHV/l5ziJOs0dZlYR1TA0eWLSif8ifmo/pNv/4+tvItVVwCLquNlLMOIUOaP2qt0Brfa3ObkJcc9C9o8ksDsxPMG1swtTZrqhhkSt/HSagvAsQHKyTtNs3JZZ5gHFGTeI91JkGtXEMWC3LuXU5SN+A2RqHuBKSFHbFmozyz/dC2EbXz/IKD/+cJ/44gxHiqFNf3mYE/NmDdJyXWoVzfGLqGuNMk8TFmB0DtxjadjLORHLcQiy6NE1m+noNn0RXS6dVKdl25DJ2Dp7X1sbwFpPtA4A4PeF9Jzy78zm7h0YsemcgT6p0zJqm132Fz9nHj6Dnmco3HMNqCPyWoJx7/cMbL+cexBuDijoSAi2g4PiLiaIWZwsMiOo+wdY07dNEKKaIYCpdONcO4ArHfs809wmbsxliYI0um12u0hwMU5so7Gj4+tz0XWijt4qLRd2CSEX/PAYwBvmxxNkGjJQfzMvCN/+tHYyBREOEozgK/uUZ3WiF5hVkdGapIaeC27PJFby4sgj5uh+e+IymJpBXIoqgA+xJesGLhMxvF6wZoeuEnaD9oz2c7LKHCWK2k9pP4KGYQ7BCZU3Nrga6w1upwd9B6z9RQG5chZjmqQ1cf1gC7BZ4k5Ktkx8FvHd+09R8wDDdBQc5+y68qdvZf0htuOkry+l8g6evogTfG+gK2Gu9DMCO4wr4dbGiFAJSGDrbHzvjboO7Sc/DgDlEyYZe1MNYttVr64z/SWqdaKcuvfDeNlor8Y/pdxfcp+qzW1KzwBdPRCA39lN03oHC6SUlbC/zvp8gXEzqB0M2OgBGc4KHFq++oz1vwGIPoE+0cdnfmmBTDSykbXobkRIT9VNXgeh53fA3Y0Tj7L1J8bavt7TukGfWLgi+i59uLT3O4oYyy+ubrCQClfHp1fjW9rvK8vszpJBpGHA79/bOHzl2h5kK1m/4JHIXSVPohGg3SVxEXuwrimyJsxu8+1kv8sVs3Kp02rMl+AoW9jMK6yzyefkhQEtxZjn8dyDQQeFSqHM4nF4xNL6sLOpkAp/mk5td5zVEpOmWX/wup3ks3G5fr/crNvkyybY9Frzl1/eLglRWVhLwjPwu7wYfR5/DiJY3gHFB5RXbH3ffBEWr41iz/Am/bO5w=</script> <treescope-run-here><script type=\"application/octet-stream\"> const root = ( Array.from(document.getElementsByClassName( \"treescope_out_9fbb8b287ef949979e70bea42d58f498\")) .filter((elt) => !elt.dataset['step0']) )[0]; root.dataset['step0'] = 1; root.defns.insertContent( this.parentNode.querySelector('script[type=\"application/octet-stream\"]'), true ); this.parentNode.remove(); </script></treescope-run-here> </div>"
      ],
      "text/plain": [
       "<IPython.core.display.HTML object>"
      ]
     },
     "metadata": {},
     "output_type": "display_data"
    },
    {
     "data": {
      "text/html": [
       "<div style=\"display:none\"> <script type=\"application/octet-stream\" >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</script> <treescope-run-here><script type=\"application/octet-stream\"> const root = ( Array.from(document.getElementsByClassName( \"treescope_out_9fbb8b287ef949979e70bea42d58f498\")) .filter((elt) => !elt.dataset['step1']) )[0]; root.dataset['step1'] = 1; root.defns.insertContent( this.parentNode.querySelector('script[type=\"application/octet-stream\"]'), true ); this.parentNode.remove(); </script></treescope-run-here> </div>"
      ],
      "text/plain": [
       "<IPython.core.display.HTML object>"
      ]
     },
     "metadata": {},
     "output_type": "display_data"
    },
    {
     "data": {
      "text/html": [
       "<treescope-run-here><script type=\"application/octet-stream\"> const root = ( Array.from(document.getElementsByClassName( \"treescope_out_9fbb8b287ef949979e70bea42d58f498\")) .filter((elt) => !elt.dataset.stolen) )[0]; root.dataset.stolen = 1; this.parentNode.replaceChild(root, this); </script></treescope-run-here>"
      ],
      "text/plain": [
       "tensor([794, 184,  56, 243, 300, 657, 641, 575], dtype=torch.int32)"
      ]
     },
     "execution_count": 35,
     "metadata": {},
     "output_type": "execute_result"
    }
   ],
   "source": [
    "b"
   ]
  },
  {
   "cell_type": "code",
   "execution_count": 36,
   "metadata": {},
   "outputs": [
    {
     "data": {
      "text/html": [
       "<script> (()=>{ if (customElements.get('treescope-container') === undefined) { class TreescopeContainer extends HTMLElement { constructor() { super(); this.attachShadow({mode: \"open\"}); this.defns = {}; this.state = {}; } } customElements.define(\"treescope-container\", TreescopeContainer); } if (customElements.get('treescope-run-here') === undefined) { class RunHere extends HTMLElement { constructor() { super() } connectedCallback() { const run = child => { const fn = new Function(child.textContent); child.textContent = \"\"; fn.call(this); this.remove(); }; const child = this.querySelector(\"script\"); if (child) { run(child); } else { new MutationObserver(()=>{ run(this.querySelector(\"script\")); }).observe(this, {childList: true}); } } } customElements.define(\"treescope-run-here\", RunHere); } })(); </script> <treescope-container class=\"treescope_out_be951c318dc34c0c8b3cddbef4ef93cb\" ></treescope-container> <treescope-run-here><script type=\"application/octet-stream\"> const root = ( Array.from(document.getElementsByClassName( \"treescope_out_be951c318dc34c0c8b3cddbef4ef93cb\")) .filter((elt) => !elt.dataset.setup) )[0]; root.dataset.setup = 1; const msg = document.createElement(\"span\"); msg.style = \"color: #cccccc; font-family: monospace;\"; msg.textContent = \"(Loading...)\"; root.state.loadingMsg = msg; root.shadowRoot.appendChild(msg); root.state.chain = new Promise((resolve, reject) => { const observer = new IntersectionObserver((entries) => { for (const entry of entries) { if (entry.isIntersecting) { resolve(); observer.disconnect(); return; } } }, {rootMargin: \"1000px\"}); window.setTimeout(() => { observer.observe(root); }, 0); }); root.state.deferring = false; const _insertNode = (node) => { for (let oldScript of node.querySelectorAll(\"script\")) { let newScript = document.createElement(\"script\"); newScript.type = oldScript.type; newScript.textContent = oldScript.textContent; oldScript.parentNode.replaceChild(newScript, oldScript); } if (root.state.loadingMsg) { root.state.loadingMsg.remove(); root.state.loadingMsg = null; } root.shadowRoot.appendChild(node); }; root.defns.insertContent = ((contentNode, compressed) => { if (compressed) { root.state.deferring = true; } if (root.state.deferring) { root.state.chain = (async () => { await root.state.chain; if (compressed) { const encoded = contentNode.textContent; const blob = new Blob([ Uint8Array.from(atob(encoded), (m) => m.codePointAt(0)) ]); const reader = blob.stream().pipeThrough( new DecompressionStream(\"deflate\") ).pipeThrough( new TextDecoderStream(\"utf-8\") ).getReader(); const parts = []; while (true) { const step = await reader.read(); if (step.done) { break; } parts.push(step.value); } const tpl = document.createElement('template'); tpl.innerHTML = parts.join(\"\"); _insertNode(tpl.content); } else { _insertNode(contentNode.content); } })(); } else { _insertNode(contentNode.content); } }); </script></treescope-run-here><div style=\"display:none\"> <script type=\"application/octet-stream\" >eNrVVktv4zYQ/iuEFthIi5WSOLbjyLaAvRQ9FHtoF+2hLQyKGllEaFIlqTy2yH/vkJLjyJbdLBq0qHNwPJyZ75snuTD2UUCWWA1gmKphpZWy5E9SK8MtVzIlGgS1/A7mpFTSxiXdcPGYko2SytSUofy+4hZi/yMltUaJ4MbG3nVsH2uUSiVRnFN2u9aqkUXMlFA6bU3npPuVC1RAf7ywVUpKblFNWpB2TmpaFFyuYwGlTcmIVQ5EQlwBX1couUwmzo20lCPnZ7Pun/iOG55zwS0yp41Vz7oxl1ZzaTiLDf8K7WlH92lx3qZn8ZyeWDcSMTXKDNO8tsTFtzyjdS04oy5j54pZcNFroJuzLAyjZYYJRTxjSQGlNGRJbMVNsgb7I2b7syogjJJKGZv4cwwNLFnVIF3In5jz6ox+/X3o5HsqCwF4LBsh5i1CgjR/UkqiNLxX+jYiLzmoX1Dkjnpiy5kT1qBLpTdUMkikug8jX18ECA9OSNwaLcjVKEI/vCThHutEgFzbiiyX5MKpnKSuwTZaYt4JCAM7YlUjHbN916bipXX8vIL75wn/jiCE2FWyUPeJhj8aMPaT5Btfru803UDY5iRyPuYHQHVjqjaN84EYtxDLNowTUb6eg2PRFtKq9Vq0U7nyk4PdWjtfTgLCfiRwhw3eVdKx87+TW3h0SQ904Ah1ygkT1JgfcDg7v2Hw7HO1wTYMtuBPEeYT29/3eLY4HxqAgt8R73AZ9NdHQCzNMVJ4WAYXAY6utocqSiJFTIbEo1PDMJyB0NlsYw9wGNs15vfIiqnNBuW+gfxeeUf9x8W2p0JTqWyYVuoOdDSg7ziA1lCsatxNUClRgH7p+Nr9davRk0gJtxR3gTMuUZ3mSF5iVEeWKlLqqa3aeFG74AZBH7fLc1+RZETQHESa5oBzCS9YMf+ZD+K1CzS+dBu0W7QX8x0Wl36t5kK5TXwU0yfsELmg+tYAXWOt5aG1z/WeqKImzLzPbDAPbX1YBewWiigiH6IdB2c6bLTV7zH0N0FKzn4bTXJ29l/S6xsdJTn9F0i6OjrgRhtXwFrhfQh6AJebt4P1o+CBYj/B5liPvw3qLjwLD/YQJeFmVXJt7ErJlWv/gdE6NUrJaOKmabBU5B/Tbyu+T9FFtaF6jS+YloYf6KfkvgKJ200IWhso/n6LfDOhEwjt7vAYXgkearz6juq8BY8hiC7QVmF3Zw6lon8pJf3LkJzwsB+q7F3Pw4qvATvqZ/9Fiq9tub19+zSD7pAXy+D59sovJtPppLxmo9l0PBuPZpf51WiUUzqdjunohgZ9j/2lv997qNwWasFl3XRP4MCXJlcPwaCTrop42FYQ3xTeGL87Xy/xh27dILNKsyr5AhJnmeRKiXD2McKMoGE2/HWQpV5+BzM1uZ7lxfRiTPPJaDwtZzesuLm6LMdXDIrR9eT/kan3ws4Hs/V+befflrHthAWv6bnusPfGCjJC3pGfuWnwWfTVv3dJxYsCMPGS7JrdTcERavjSzP4CC+c5+w==</script> <treescope-run-here><script type=\"application/octet-stream\"> const root = ( Array.from(document.getElementsByClassName( \"treescope_out_be951c318dc34c0c8b3cddbef4ef93cb\")) .filter((elt) => !elt.dataset['step0']) )[0]; root.dataset['step0'] = 1; root.defns.insertContent( this.parentNode.querySelector('script[type=\"application/octet-stream\"]'), true ); this.parentNode.remove(); </script></treescope-run-here> </div>"
      ],
      "text/plain": [
       "<IPython.core.display.HTML object>"
      ]
     },
     "metadata": {},
     "output_type": "display_data"
    },
    {
     "data": {
      "text/html": [
       "<div style=\"display:none\"> <script type=\"application/octet-stream\" >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</script> <treescope-run-here><script type=\"application/octet-stream\"> const root = ( Array.from(document.getElementsByClassName( \"treescope_out_be951c318dc34c0c8b3cddbef4ef93cb\")) .filter((elt) => !elt.dataset['step1']) )[0]; root.dataset['step1'] = 1; root.defns.insertContent( this.parentNode.querySelector('script[type=\"application/octet-stream\"]'), true ); this.parentNode.remove(); </script></treescope-run-here> </div>"
      ],
      "text/plain": [
       "<IPython.core.display.HTML object>"
      ]
     },
     "metadata": {},
     "output_type": "display_data"
    },
    {
     "data": {
      "text/html": [
       "<treescope-run-here><script type=\"application/octet-stream\"> const root = ( Array.from(document.getElementsByClassName( \"treescope_out_be951c318dc34c0c8b3cddbef4ef93cb\")) .filter((elt) => !elt.dataset.stolen) )[0]; root.dataset.stolen = 1; this.parentNode.replaceChild(root, this); </script></treescope-run-here>"
      ],
      "text/plain": [
       "tensor([ True, False, False,  True,  True, False,  True, False])"
      ]
     },
     "execution_count": 36,
     "metadata": {},
     "output_type": "execute_result"
    }
   ],
   "source": [
    "a == b"
   ]
  },
  {
   "cell_type": "code",
   "execution_count": null,
   "metadata": {},
   "outputs": [],
   "source": []
  }
 ],
 "metadata": {
  "kernelspec": {
   "display_name": "minVAE",
   "language": "python",
   "name": "python3"
  },
  "language_info": {
   "codemirror_mode": {
    "name": "ipython",
    "version": 3
   },
   "file_extension": ".py",
   "mimetype": "text/x-python",
   "name": "python",
   "nbconvert_exporter": "python",
   "pygments_lexer": "ipython3",
   "version": "3.12.8"
  }
 },
 "nbformat": 4,
 "nbformat_minor": 2
}
