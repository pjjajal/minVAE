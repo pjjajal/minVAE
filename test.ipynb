{
 "cells": [
  {
   "cell_type": "code",
   "execution_count": null,
   "metadata": {},
   "outputs": [],
   "source": [
    "import torch\n",
    "import treescope\n",
    "from models.gan import DinoPatchDiscriminator\n",
    "from torchmetrics.image import (\n",
    "    StructuralSimilarityIndexMeasure,\n",
    "    PeakSignalNoiseRatio,\n",
    "    FrechetInceptionDistance,\n",
    "    LearnedPerceptualImagePatchSimilarity,\n",
    ")\n",
    "\n",
    "treescope.register_as_default()"
   ]
  },
  {
   "cell_type": "code",
   "execution_count": null,
   "metadata": {},
   "outputs": [],
   "source": [
    "model = DinoPatchDiscriminator('small')\n",
    "model(torch.randn(1, 3, 256, 256).cuda())"
   ]
  },
  {
   "cell_type": "code",
   "execution_count": null,
   "metadata": {},
   "outputs": [],
   "source": [
    "from layers.layers2d import Encoder, Decoder\n",
    "from models.vae import VAE"
   ]
  },
  {
   "cell_type": "code",
   "execution_count": null,
   "metadata": {},
   "outputs": [],
   "source": [
    "vae = VAE(\n",
    "    in_channels=3,\n",
    "    out_channels=3,\n",
    "    channels=128,\n",
    "    channels_mult=[1, 2, 4, 4],\n",
    "    num_res_blocks=2,\n",
    "    attn_resolutions=[32],\n",
    "    dropout=0.0,\n",
    "    resolution=256,\n",
    "    z_channels=4,\n",
    "    spatial_compression=4,\n",
    "    wavelet=\"db4\",\n",
    "    maxlevel=2\n",
    ")\n",
    "vae"
   ]
  },
  {
   "cell_type": "code",
   "execution_count": null,
   "metadata": {},
   "outputs": [],
   "source": [
    "vae.forward(torch.randn(1, 3, 256, 256))"
   ]
  },
  {
   "cell_type": "code",
   "execution_count": null,
   "metadata": {},
   "outputs": [],
   "source": [
    "encoder = Encoder(\n",
    "    in_channels=3,\n",
    "    channels=128,\n",
    "    channels_mult=[1, 2, 4, 4],\n",
    "    num_res_blocks=2,\n",
    "    attn_resolutions=[32],\n",
    "    resolution=256,\n",
    "    z_channels=4,\n",
    "    spatial_compression=8,\n",
    "    dropout=0.1,\n",
    ")\n",
    "\n",
    "decoder = Decoder(\n",
    "    z_channels=4,\n",
    "    channels=128,\n",
    "    channels_mult=[1, 2, 4, 4],\n",
    "    num_res_blocks=2,\n",
    "    attn_resolutions=[32],\n",
    "    resolution=256,\n",
    "    out_channels=3,\n",
    "    spatial_compression=8,\n",
    "    dropout=0.1,\n",
    ")"
   ]
  },
  {
   "cell_type": "code",
   "execution_count": null,
   "metadata": {},
   "outputs": [],
   "source": [
    "encoder"
   ]
  },
  {
   "cell_type": "code",
   "execution_count": null,
   "metadata": {},
   "outputs": [],
   "source": [
    "decoder"
   ]
  },
  {
   "cell_type": "code",
   "execution_count": null,
   "metadata": {},
   "outputs": [],
   "source": [
    "decoder.forward(torch.randn(1, 4, 8, 8)).shape"
   ]
  },
  {
   "cell_type": "code",
   "execution_count": null,
   "metadata": {},
   "outputs": [],
   "source": []
  },
  {
   "cell_type": "code",
   "execution_count": null,
   "metadata": {},
   "outputs": [],
   "source": [
    "import torch\n",
    "import einops\n",
    "import treescope\n",
    "\n",
    "from models.vqvae import VQVAE\n",
    "from layers.quantizers import FSQuantizer\n",
    "treescope.register_as_default()\n",
    "treescope.basic_interactive_setup(autovisualize_arrays=True)\n"
   ]
  },
  {
   "cell_type": "code",
   "execution_count": null,
   "metadata": {},
   "outputs": [],
   "source": [
    "a = torch.randn((1, 1, 8))\n",
    "b = torch.randn((1, 2, 8))\n",
    "\n",
    "print(einops.rearrange(a, \"... c d -> ... (c d)\").shape)\n",
    "print(einops.rearrange(b, \"... c d -> ... (c d)\").shape)"
   ]
  },
  {
   "cell_type": "code",
   "execution_count": null,
   "metadata": {},
   "outputs": [],
   "source": [
    "quantizer = FSQuantizer(levels=[7, 5, 5, 5], input_dim=256, num_codebooks=1)"
   ]
  },
  {
   "cell_type": "code",
   "execution_count": null,
   "metadata": {},
   "outputs": [],
   "source": [
    "codes, indices = quantizer(torch.randn(1, 256, 8, 8))"
   ]
  },
  {
   "cell_type": "code",
   "execution_count": null,
   "metadata": {},
   "outputs": [],
   "source": [
    "proj_codes, codes = quantizer.indices_to_codes(indices)"
   ]
  },
  {
   "cell_type": "code",
   "execution_count": null,
   "metadata": {},
   "outputs": [],
   "source": [
    "vq = VQVAE(\n",
    "    in_channels=3,\n",
    "    out_channels=3,\n",
    "    channels=128,\n",
    "    channels_mult=[1, 2, 4, 4],\n",
    "    num_res_blocks=2,\n",
    "    attn_resolutions=[32],\n",
    "    dropout=0.0,\n",
    "    resolution=256,\n",
    "    z_channels=256,\n",
    "    spatial_compression=4,\n",
    "    wavelet=\"db4\",\n",
    "    maxlevel=2,\n",
    "    quantization=\"fsq\",\n",
    "    levels=[8, 5, 5, 5],\n",
    "    num_codebooks=1,\n",
    ")"
   ]
  },
  {
   "cell_type": "code",
   "execution_count": null,
   "metadata": {},
   "outputs": [],
   "source": [
    "vq"
   ]
  },
  {
   "cell_type": "code",
   "execution_count": null,
   "metadata": {},
   "outputs": [],
   "source": []
  }
 ],
 "metadata": {
  "kernelspec": {
   "display_name": "minVAE",
   "language": "python",
   "name": "python3"
  },
  "language_info": {
   "codemirror_mode": {
    "name": "ipython",
    "version": 3
   },
   "file_extension": ".py",
   "mimetype": "text/x-python",
   "name": "python",
   "nbconvert_exporter": "python",
   "pygments_lexer": "ipython3",
   "version": "3.12.7"
  }
 },
 "nbformat": 4,
 "nbformat_minor": 2
}
